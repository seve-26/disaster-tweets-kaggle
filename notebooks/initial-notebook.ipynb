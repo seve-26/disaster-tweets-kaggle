{
 "cells": [
  {
   "cell_type": "code",
   "execution_count": 8,
   "id": "native-fruit",
   "metadata": {},
   "outputs": [],
   "source": [
    "import pandas as pd\n",
    "import matplotlib.pyplot as plt"
   ]
  },
  {
   "cell_type": "code",
   "execution_count": 2,
   "id": "elegant-toilet",
   "metadata": {},
   "outputs": [],
   "source": [
    "train_df = pd.read_csv('../raw_data/train.csv')\n",
    "test_df = pd.read_csv('../raw_data/test.csv')\n",
    "submission_df = pd.read_csv('../raw_data/sample_submission.csv')"
   ]
  },
  {
   "cell_type": "code",
   "execution_count": 32,
   "id": "accomplished-literacy",
   "metadata": {},
   "outputs": [
    {
     "data": {
      "text/html": [
       "<div>\n",
       "<style scoped>\n",
       "    .dataframe tbody tr th:only-of-type {\n",
       "        vertical-align: middle;\n",
       "    }\n",
       "\n",
       "    .dataframe tbody tr th {\n",
       "        vertical-align: top;\n",
       "    }\n",
       "\n",
       "    .dataframe thead th {\n",
       "        text-align: right;\n",
       "    }\n",
       "</style>\n",
       "<table border=\"1\" class=\"dataframe\">\n",
       "  <thead>\n",
       "    <tr style=\"text-align: right;\">\n",
       "      <th></th>\n",
       "      <th>id</th>\n",
       "      <th>keyword</th>\n",
       "      <th>location</th>\n",
       "      <th>text</th>\n",
       "      <th>target</th>\n",
       "    </tr>\n",
       "  </thead>\n",
       "  <tbody>\n",
       "    <tr>\n",
       "      <th>0</th>\n",
       "      <td>1</td>\n",
       "      <td>NaN</td>\n",
       "      <td>NaN</td>\n",
       "      <td>Our Deeds are the Reason of this #earthquake M...</td>\n",
       "      <td>1</td>\n",
       "    </tr>\n",
       "    <tr>\n",
       "      <th>1</th>\n",
       "      <td>4</td>\n",
       "      <td>NaN</td>\n",
       "      <td>NaN</td>\n",
       "      <td>Forest fire near La Ronge Sask. Canada</td>\n",
       "      <td>1</td>\n",
       "    </tr>\n",
       "    <tr>\n",
       "      <th>2</th>\n",
       "      <td>5</td>\n",
       "      <td>NaN</td>\n",
       "      <td>NaN</td>\n",
       "      <td>All residents asked to 'shelter in place' are ...</td>\n",
       "      <td>1</td>\n",
       "    </tr>\n",
       "    <tr>\n",
       "      <th>3</th>\n",
       "      <td>6</td>\n",
       "      <td>NaN</td>\n",
       "      <td>NaN</td>\n",
       "      <td>13,000 people receive #wildfires evacuation or...</td>\n",
       "      <td>1</td>\n",
       "    </tr>\n",
       "    <tr>\n",
       "      <th>4</th>\n",
       "      <td>7</td>\n",
       "      <td>NaN</td>\n",
       "      <td>NaN</td>\n",
       "      <td>Just got sent this photo from Ruby #Alaska as ...</td>\n",
       "      <td>1</td>\n",
       "    </tr>\n",
       "  </tbody>\n",
       "</table>\n",
       "</div>"
      ],
      "text/plain": [
       "   id keyword location                                               text  \\\n",
       "0   1     NaN      NaN  Our Deeds are the Reason of this #earthquake M...   \n",
       "1   4     NaN      NaN             Forest fire near La Ronge Sask. Canada   \n",
       "2   5     NaN      NaN  All residents asked to 'shelter in place' are ...   \n",
       "3   6     NaN      NaN  13,000 people receive #wildfires evacuation or...   \n",
       "4   7     NaN      NaN  Just got sent this photo from Ruby #Alaska as ...   \n",
       "\n",
       "   target  \n",
       "0       1  \n",
       "1       1  \n",
       "2       1  \n",
       "3       1  \n",
       "4       1  "
      ]
     },
     "execution_count": 32,
     "metadata": {},
     "output_type": "execute_result"
    }
   ],
   "source": [
    "train_df.head()"
   ]
  },
  {
   "cell_type": "code",
   "execution_count": 30,
   "id": "pregnant-concept",
   "metadata": {
    "scrolled": true
   },
   "outputs": [
    {
     "data": {
      "image/png": "[encoded data removed]",
      "text/plain": [
       "<Figure size 432x288 with 1 Axes>"
      ]
     },
     "metadata": {
      "needs_background": "light"
     },
     "output_type": "display_data"
    }
   ],
   "source": [
    "plt.bar(train_df['target'].unique(),train_df['target'].value_counts()/len(train_df))\n",
    "plt.xticks(ticks=train_df['target'].unique())\n",
    "plt.show()"
   ]
  },
  {
   "cell_type": "markdown",
   "id": "premium-ceramic",
   "metadata": {},
   "source": [
    "Target classes are slightly imbalanced, but shouldn't be a problem."
   ]
  },
  {
   "cell_type": "markdown",
   "id": "recovered-holocaust",
   "metadata": {},
   "source": [
    "### Preprocessing"
   ]
  },
  {
   "cell_type": "markdown",
   "id": "thorough-honey",
   "metadata": {},
   "source": [
    "#### Basic for all types of data"
   ]
  },
  {
   "cell_type": "code",
   "execution_count": 35,
   "id": "freelance-viking",
   "metadata": {},
   "outputs": [
    {
     "data": {
      "text/plain": [
       "id          0.000000\n",
       "keyword     0.008013\n",
       "location    0.332720\n",
       "text        0.000000\n",
       "target      0.000000\n",
       "dtype: float64"
      ]
     },
     "execution_count": 35,
     "metadata": {},
     "output_type": "execute_result"
    }
   ],
   "source": [
    "train_df.isnull().sum()/len(train_df)"
   ]
  },
  {
   "cell_type": "markdown",
   "id": "extreme-equipment",
   "metadata": {},
   "source": [
    "First model won't use location. Given that there are less than 1% of tweets missing keyword, I'll drop the rows with NaNs in that column"
   ]
  },
  {
   "cell_type": "code",
   "execution_count": 44,
   "id": "filled-upset",
   "metadata": {},
   "outputs": [],
   "source": [
    "train_df = train_df[train_df['keyword'].notna()]"
   ]
  },
  {
   "cell_type": "code",
   "execution_count": 38,
   "id": "laden-secretariat",
   "metadata": {},
   "outputs": [
    {
     "data": {
      "text/plain": [
       "True"
      ]
     },
     "execution_count": 38,
     "metadata": {},
     "output_type": "execute_result"
    }
   ],
   "source": [
    "len(train_df.drop_duplicates()) == len(train_df)"
   ]
  },
  {
   "cell_type": "markdown",
   "id": "bronze-hungarian",
   "metadata": {},
   "source": [
    "No duplicates found"
   ]
  },
  {
   "cell_type": "code",
   "execution_count": 53,
   "id": "written-calibration",
   "metadata": {},
   "outputs": [],
   "source": [
    "X_train = train_df.drop(columns=['target','location'])\n",
    "y_train = train_df['target']"
   ]
  },
  {
   "cell_type": "markdown",
   "id": "sorted-thermal",
   "metadata": {},
   "source": [
    "#### Basic for text"
   ]
  },
  {
   "cell_type": "markdown",
   "id": "pending-disability",
   "metadata": {},
   "source": [
    "Create custom transformer for basic text preprocessing. Easier to play around later on."
   ]
  },
  {
   "cell_type": "code",
   "execution_count": 55,
   "id": "shaped-grenada",
   "metadata": {},
   "outputs": [],
   "source": [
    "def remove_digits(string):\n",
    "    \"\"\"Remove digits from the given string\"\"\"\n",
    "    return ''.join(letter for letter in string if not letter.isdigit())"
   ]
  },
  {
   "cell_type": "code",
   "execution_count": 66,
   "id": "tropical-variable",
   "metadata": {},
   "outputs": [],
   "source": [
    "from nltk.tokenize import word_tokenize\n",
    "\n",
    "def tokenize(string):\n",
    "    \"\"\"Returns list of words componing the string\"\"\"\n",
    "    return word_tokenize(string)\n",
    "\n",
    "def detokenize(tokenized_string):\n",
    "    return ' '.join(tokenized_string)"
   ]
  },
  {
   "cell_type": "code",
   "execution_count": 64,
   "id": "gorgeous-maine",
   "metadata": {},
   "outputs": [],
   "source": [
    "def remove_stopwords(tokenized_string, stopwords):\n",
    "    \"\"\"Given a list of words, removes all words that are in stopwords\"\"\"\n",
    "    return [word for word in tokenized_string if word not in stopwords]"
   ]
  },
  {
   "cell_type": "code",
   "execution_count": 65,
   "id": "educational-cancellation",
   "metadata": {},
   "outputs": [],
   "source": [
    "from nltk.stem import WordNetLemmatizer\n",
    "\n",
    "def lemmatize(tokenized_string):\n",
    "    lemmatizer = WordNetLemmatizer()\n",
    "    return [lemmatizer.lemmatize(word) for word in tokenized_string]"
   ]
  },
  {
   "cell_type": "code",
   "execution_count": 102,
   "id": "outstanding-society",
   "metadata": {},
   "outputs": [],
   "source": [
    "from sklearn.base import TransformerMixin, BaseEstimator\n",
    "import string\n",
    "from nltk.corpus import stopwords\n",
    "\n",
    "class BasicTextProcessor(TransformerMixin, BaseEstimator):\n",
    "    \"\"\"\n",
    "    Transformer that gets fed pd.Series containing text. Can be defined which actions should be executed:\n",
    "    - lower\n",
    "    - remove digits\n",
    "    - exclude certain types of punctuation (everything else will be removed)\n",
    "    - exclude certain stopwords (everything else will be removed)\n",
    "    - lemmatize\n",
    "    \"\"\"\n",
    "    def __init__(self, lower=True, remove_num=True, excl_punct=None, excl_stopwords=None, lemmatize=True):\n",
    "        self.lower = lower\n",
    "        self.remove_num = remove_num\n",
    "        self.excl_punct = excl_punct\n",
    "        self.excl_stopwords = excl_stopwords\n",
    "        self.lemmatize = lemmatize\n",
    "    \n",
    "    def fit(self, X, y=None):\n",
    "        if self.excl_punct:\n",
    "            self.punctuation = ''.join(i for i in string.punctuation if i not in self.excl_punct)\n",
    "        else:\n",
    "            self.punctuation = string.punctuation\n",
    "        if self.excl_stopwords:\n",
    "            self.stopwords = [i for i in stopwords.words(\"english\") if i not in self.excl_stopwords]\n",
    "        else:\n",
    "            self.stopwords = stopwords.words(\"english\")\n",
    "        \n",
    "        return self\n",
    "    \n",
    "    def transform(self, X, y=None):\n",
    "        X_transformed = X['text'].copy()\n",
    "        \n",
    "        if self.lower:\n",
    "            X_transformed = X_transformed.str.lower()\n",
    "        if self.remove_num:\n",
    "            X_transformed = X_transformed.apply(remove_digits)\n",
    "        \n",
    "        # substitute ' with space for better removal of stopwords\n",
    "        if \"'\" in self.punctuation:\n",
    "            X_transformed = X_transformed.str.replace(\"'\",' ',regex=False)\n",
    "        for punct in self.punctuation:\n",
    "            X_transformed = X_transformed.str.replace(punct,'',regex=False)\n",
    "        \n",
    "        # actions on tokenized string\n",
    "        X_transformed_tokenized = X_transformed.apply(tokenize)\n",
    "        X_transformed_tokenized = X_transformed_tokenized.apply(remove_stopwords,stopwords=self.stopwords)\n",
    "        X_transformed_tokenized = X_transformed_tokenized.apply(lemmatize)\n",
    "        \n",
    "        return X_transformed_tokenized.apply(detokenize)"
   ]
  },
  {
   "cell_type": "markdown",
   "id": "intended-noise",
   "metadata": {},
   "source": [
    "#### Vectorize"
   ]
  },
  {
   "cell_type": "code",
   "execution_count": 103,
   "id": "productive-consent",
   "metadata": {},
   "outputs": [],
   "source": [
    "# bag of words for keyword column, tfidf for text column\n",
    "\n",
    "from sklearn.feature_extraction.text import TfidfVectorizer, CountVectorizer\n",
    "\n",
    "bow = CountVectorizer()\n",
    "tfidf = TfidfVectorizer()"
   ]
  },
  {
   "cell_type": "markdown",
   "id": "individual-approval",
   "metadata": {},
   "source": [
    "#### Build pipeline"
   ]
  },
  {
   "cell_type": "code",
   "execution_count": 104,
   "id": "meaningful-portal",
   "metadata": {},
   "outputs": [],
   "source": [
    "from sklearn import set_config\n",
    "set_config(display=\"diagram\")"
   ]
  },
  {
   "cell_type": "code",
   "execution_count": 105,
   "id": "brilliant-rally",
   "metadata": {},
   "outputs": [],
   "source": [
    "from sklearn.pipeline import Pipeline\n",
    "\n",
    "tweet_pipe = Pipeline([\n",
    "    ('basic', BasicTextProcessor()),\n",
    "    ('vectorize', tfidf)\n",
    "])"
   ]
  },
  {
   "cell_type": "code",
   "execution_count": 112,
   "id": "simple-diana",
   "metadata": {},
   "outputs": [
    {
     "data": {
      "text/html": [
       "<style>div.sk-top-container {color: black;background-color: white;}div.sk-toggleable {background-color: white;}label.sk-toggleable__label {cursor: pointer;display: block;width: 100%;margin-bottom: 0;padding: 0.2em 0.3em;box-sizing: border-box;text-align: center;}div.sk-toggleable__content {max-height: 0;max-width: 0;overflow: hidden;text-align: left;background-color: #f0f8ff;}div.sk-toggleable__content pre {margin: 0.2em;color: black;border-radius: 0.25em;background-color: #f0f8ff;}input.sk-toggleable__control:checked~div.sk-toggleable__content {max-height: 200px;max-width: 100%;overflow: auto;}div.sk-estimator input.sk-toggleable__control:checked~label.sk-toggleable__label {background-color: #d4ebff;}div.sk-label input.sk-toggleable__control:checked~label.sk-toggleable__label {background-color: #d4ebff;}input.sk-hidden--visually {border: 0;clip: rect(1px 1px 1px 1px);clip: rect(1px, 1px, 1px, 1px);height: 1px;margin: -1px;overflow: hidden;padding: 0;position: absolute;width: 1px;}div.sk-estimator {font-family: monospace;background-color: #f0f8ff;margin: 0.25em 0.25em;border: 1px dotted black;border-radius: 0.25em;box-sizing: border-box;}div.sk-estimator:hover {background-color: #d4ebff;}div.sk-parallel-item::after {content: \"\";width: 100%;border-bottom: 1px solid gray;flex-grow: 1;}div.sk-label:hover label.sk-toggleable__label {background-color: #d4ebff;}div.sk-serial::before {content: \"\";position: absolute;border-left: 1px solid gray;box-sizing: border-box;top: 2em;bottom: 0;left: 50%;}div.sk-serial {display: flex;flex-direction: column;align-items: center;background-color: white;}div.sk-item {z-index: 1;}div.sk-parallel {display: flex;align-items: stretch;justify-content: center;background-color: white;}div.sk-parallel-item {display: flex;flex-direction: column;position: relative;background-color: white;}div.sk-parallel-item:first-child::after {align-self: flex-end;width: 50%;}div.sk-parallel-item:last-child::after {align-self: flex-start;width: 50%;}div.sk-parallel-item:only-child::after {width: 0;}div.sk-dashed-wrapped {border: 1px dashed gray;margin: 0.2em;box-sizing: border-box;padding-bottom: 0.1em;background-color: white;position: relative;}div.sk-label label {font-family: monospace;font-weight: bold;background-color: white;display: inline-block;line-height: 1.2em;}div.sk-label-container {position: relative;z-index: 2;text-align: center;}div.sk-container {display: inline-block;position: relative;}</style><div class=\"sk-top-container\"><div class=\"sk-container\"><div class=\"sk-item sk-dashed-wrapped\"><div class=\"sk-label-container\"><div class=\"sk-label sk-toggleable\"><input class=\"sk-toggleable__control sk-hidden--visually\" id=\"144b6232-15a6-463d-aaba-7b491e503607\" type=\"checkbox\" ><label class=\"sk-toggleable__label\" for=\"144b6232-15a6-463d-aaba-7b491e503607\">ColumnTransformer</label><div class=\"sk-toggleable__content\"><pre>ColumnTransformer(sparse_threshold=0,\n",
       "                  transformers=[('tweets',\n",
       "                                 Pipeline(steps=[('basic',\n",
       "                                                  BasicTextProcessor()),\n",
       "                                                 ('vectorize',\n",
       "                                                  TfidfVectorizer())]),\n",
       "                                 ['text']),\n",
       "                                ('keywords', CountVectorizer(), 'keyword')])</pre></div></div></div><div class=\"sk-parallel\"><div class=\"sk-parallel-item\"><div class=\"sk-item\"><div class=\"sk-label-container\"><div class=\"sk-label sk-toggleable\"><input class=\"sk-toggleable__control sk-hidden--visually\" id=\"3b05e088-5e7f-4346-a70e-b180ac627e3c\" type=\"checkbox\" ><label class=\"sk-toggleable__label\" for=\"3b05e088-5e7f-4346-a70e-b180ac627e3c\">tweets</label><div class=\"sk-toggleable__content\"><pre>['text']</pre></div></div></div><div class=\"sk-serial\"><div class=\"sk-item\"><div class=\"sk-serial\"><div class=\"sk-item\"><div class=\"sk-estimator sk-toggleable\"><input class=\"sk-toggleable__control sk-hidden--visually\" id=\"1af0f8e2-1fea-4124-ab2f-46e097e461fc\" type=\"checkbox\" ><label class=\"sk-toggleable__label\" for=\"1af0f8e2-1fea-4124-ab2f-46e097e461fc\">BasicTextProcessor</label><div class=\"sk-toggleable__content\"><pre>BasicTextProcessor()</pre></div></div></div><div class=\"sk-item\"><div class=\"sk-estimator sk-toggleable\"><input class=\"sk-toggleable__control sk-hidden--visually\" id=\"a4411b84-d96b-4ec3-a73f-d832b5e21557\" type=\"checkbox\" ><label class=\"sk-toggleable__label\" for=\"a4411b84-d96b-4ec3-a73f-d832b5e21557\">TfidfVectorizer</label><div class=\"sk-toggleable__content\"><pre>TfidfVectorizer()</pre></div></div></div></div></div></div></div></div><div class=\"sk-parallel-item\"><div class=\"sk-item\"><div class=\"sk-label-container\"><div class=\"sk-label sk-toggleable\"><input class=\"sk-toggleable__control sk-hidden--visually\" id=\"101fcf5d-52d2-43c5-84db-65647ee1ab8d\" type=\"checkbox\" ><label class=\"sk-toggleable__label\" for=\"101fcf5d-52d2-43c5-84db-65647ee1ab8d\">keywords</label><div class=\"sk-toggleable__content\"><pre>keyword</pre></div></div></div><div class=\"sk-serial\"><div class=\"sk-item\"><div class=\"sk-estimator sk-toggleable\"><input class=\"sk-toggleable__control sk-hidden--visually\" id=\"45e4bdd2-ecfe-460e-8588-17eeb90901b6\" type=\"checkbox\" ><label class=\"sk-toggleable__label\" for=\"45e4bdd2-ecfe-460e-8588-17eeb90901b6\">CountVectorizer</label><div class=\"sk-toggleable__content\"><pre>CountVectorizer()</pre></div></div></div></div></div></div></div></div></div></div>"
      ],
      "text/plain": [
       "ColumnTransformer(sparse_threshold=0,\n",
       "                  transformers=[('tweets',\n",
       "                                 Pipeline(steps=[('basic',\n",
       "                                                  BasicTextProcessor()),\n",
       "                                                 ('vectorize',\n",
       "                                                  TfidfVectorizer())]),\n",
       "                                 ['text']),\n",
       "                                ('keywords', CountVectorizer(), 'keyword')])"
      ]
     },
     "execution_count": 112,
     "metadata": {},
     "output_type": "execute_result"
    }
   ],
   "source": [
    "from sklearn.compose import ColumnTransformer\n",
    "\n",
    "preproc_pipe = ColumnTransformer([\n",
    "    ('tweets', tweet_pipe,['text']),\n",
    "    ('keywords', bow, 'keyword')\n",
    "],sparse_threshold=0)\n",
    "\n",
    "preproc_pipe"
   ]
  },
  {
   "cell_type": "code",
   "execution_count": 115,
   "id": "modern-wholesale",
   "metadata": {},
   "outputs": [
    {
     "data": {
      "text/plain": [
       "array([[0., 0., 0., ..., 0., 0., 0.],\n",
       "       [0., 0., 0., ..., 0., 0., 0.],\n",
       "       [0., 0., 0., ..., 0., 0., 0.],\n",
       "       ...,\n",
       "       [0., 0., 0., ..., 0., 0., 1.],\n",
       "       [0., 0., 0., ..., 0., 0., 1.],\n",
       "       [0., 0., 0., ..., 0., 0., 1.]])"
      ]
     },
     "execution_count": 115,
     "metadata": {},
     "output_type": "execute_result"
    }
   ],
   "source": [
    "preproc_pipe.fit_transform(X_train)"
   ]
  },
  {
   "cell_type": "markdown",
   "id": "comparative-moderator",
   "metadata": {},
   "source": [
    "#### Feature engineering?"
   ]
  },
  {
   "cell_type": "code",
   "execution_count": null,
   "id": "iraqi-grounds",
   "metadata": {},
   "outputs": [],
   "source": [
    "# could be number of punctuation"
   ]
  },
  {
   "cell_type": "code",
   "execution_count": null,
   "id": "controlled-converter",
   "metadata": {},
   "outputs": [],
   "source": []
  },
  {
   "cell_type": "code",
   "execution_count": null,
   "id": "naval-survival",
   "metadata": {},
   "outputs": [],
   "source": []
  },
  {
   "cell_type": "code",
   "execution_count": null,
   "id": "sustainable-independence",
   "metadata": {},
   "outputs": [],
   "source": []
  },
  {
   "cell_type": "code",
   "execution_count": null,
   "id": "fancy-election",
   "metadata": {},
   "outputs": [],
   "source": []
  },
  {
   "cell_type": "code",
   "execution_count": null,
   "id": "sonic-leeds",
   "metadata": {},
   "outputs": [],
   "source": []
  }
 ],
 "metadata": {
  "kernelspec": {
   "display_name": "Python 3",
   "language": "python",
   "name": "python3"
  },
  "language_info": {
   "codemirror_mode": {
    "name": "ipython",
    "version": 3
   },
   "file_extension": ".py",
   "mimetype": "text/x-python",
   "name": "python",
   "nbconvert_exporter": "python",
   "pygments_lexer": "ipython3",
   "version": "3.8.6"
  },
  "toc": {
   "base_numbering": 1,
   "nav_menu": {},
   "number_sections": true,
   "sideBar": true,
   "skip_h1_title": false,
   "title_cell": "Table of Contents",
   "title_sidebar": "Contents",
   "toc_cell": false,
   "toc_position": {},
   "toc_section_display": true,
   "toc_window_display": false
  }
 },
 "nbformat": 4,
 "nbformat_minor": 5
}
