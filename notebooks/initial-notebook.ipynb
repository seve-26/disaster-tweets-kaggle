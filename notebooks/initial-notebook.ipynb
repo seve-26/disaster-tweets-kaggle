{
 "cells": [
  {
   "cell_type": "code",
   "execution_count": 82,
   "id": "native-fruit",
   "metadata": {},
   "outputs": [],
   "source": [
    "import pandas as pd\n",
    "import matplotlib.pyplot as plt\n",
    "import numpy as np"
   ]
  },
  {
   "cell_type": "markdown",
   "id": "systematic-winner",
   "metadata": {
    "heading_collapsed": true
   },
   "source": [
    "### Import data"
   ]
  },
  {
   "cell_type": "code",
   "execution_count": 2,
   "id": "elegant-toilet",
   "metadata": {
    "hidden": true
   },
   "outputs": [],
   "source": [
    "train_df = pd.read_csv('../raw_data/train.csv')\n",
    "test_df = pd.read_csv('../raw_data/test.csv')\n",
    "submission_df = pd.read_csv('../raw_data/sample_submission.csv')"
   ]
  },
  {
   "cell_type": "code",
   "execution_count": 3,
   "id": "accomplished-literacy",
   "metadata": {
    "hidden": true
   },
   "outputs": [
    {
     "data": {
      "text/html": [
       "<div>\n",
       "<style scoped>\n",
       "    .dataframe tbody tr th:only-of-type {\n",
       "        vertical-align: middle;\n",
       "    }\n",
       "\n",
       "    .dataframe tbody tr th {\n",
       "        vertical-align: top;\n",
       "    }\n",
       "\n",
       "    .dataframe thead th {\n",
       "        text-align: right;\n",
       "    }\n",
       "</style>\n",
       "<table border=\"1\" class=\"dataframe\">\n",
       "  <thead>\n",
       "    <tr style=\"text-align: right;\">\n",
       "      <th></th>\n",
       "      <th>id</th>\n",
       "      <th>keyword</th>\n",
       "      <th>location</th>\n",
       "      <th>text</th>\n",
       "      <th>target</th>\n",
       "    </tr>\n",
       "  </thead>\n",
       "  <tbody>\n",
       "    <tr>\n",
       "      <th>0</th>\n",
       "      <td>1</td>\n",
       "      <td>NaN</td>\n",
       "      <td>NaN</td>\n",
       "      <td>Our Deeds are the Reason of this #earthquake M...</td>\n",
       "      <td>1</td>\n",
       "    </tr>\n",
       "    <tr>\n",
       "      <th>1</th>\n",
       "      <td>4</td>\n",
       "      <td>NaN</td>\n",
       "      <td>NaN</td>\n",
       "      <td>Forest fire near La Ronge Sask. Canada</td>\n",
       "      <td>1</td>\n",
       "    </tr>\n",
       "    <tr>\n",
       "      <th>2</th>\n",
       "      <td>5</td>\n",
       "      <td>NaN</td>\n",
       "      <td>NaN</td>\n",
       "      <td>All residents asked to 'shelter in place' are ...</td>\n",
       "      <td>1</td>\n",
       "    </tr>\n",
       "    <tr>\n",
       "      <th>3</th>\n",
       "      <td>6</td>\n",
       "      <td>NaN</td>\n",
       "      <td>NaN</td>\n",
       "      <td>13,000 people receive #wildfires evacuation or...</td>\n",
       "      <td>1</td>\n",
       "    </tr>\n",
       "    <tr>\n",
       "      <th>4</th>\n",
       "      <td>7</td>\n",
       "      <td>NaN</td>\n",
       "      <td>NaN</td>\n",
       "      <td>Just got sent this photo from Ruby #Alaska as ...</td>\n",
       "      <td>1</td>\n",
       "    </tr>\n",
       "  </tbody>\n",
       "</table>\n",
       "</div>"
      ],
      "text/plain": [
       "   id keyword location                                               text  \\\n",
       "0   1     NaN      NaN  Our Deeds are the Reason of this #earthquake M...   \n",
       "1   4     NaN      NaN             Forest fire near La Ronge Sask. Canada   \n",
       "2   5     NaN      NaN  All residents asked to 'shelter in place' are ...   \n",
       "3   6     NaN      NaN  13,000 people receive #wildfires evacuation or...   \n",
       "4   7     NaN      NaN  Just got sent this photo from Ruby #Alaska as ...   \n",
       "\n",
       "   target  \n",
       "0       1  \n",
       "1       1  \n",
       "2       1  \n",
       "3       1  \n",
       "4       1  "
      ]
     },
     "execution_count": 3,
     "metadata": {},
     "output_type": "execute_result"
    }
   ],
   "source": [
    "train_df.head()"
   ]
  },
  {
   "cell_type": "markdown",
   "id": "looking-diamond",
   "metadata": {
    "heading_collapsed": true
   },
   "source": [
    "### Data exploration"
   ]
  },
  {
   "cell_type": "code",
   "execution_count": 224,
   "id": "pregnant-concept",
   "metadata": {
    "hidden": true,
    "scrolled": true
   },
   "outputs": [
    {
     "data": {
      "image/png": "[encoded data removed]",
      "text/plain": [
       "<Figure size 432x288 with 1 Axes>"
      ]
     },
     "metadata": {
      "needs_background": "light"
     },
     "output_type": "display_data"
    }
   ],
   "source": [
    "plt.bar((train_df['target'].value_counts()/len(train_df)).index,train_df['target'].value_counts()/len(train_df))\n",
    "plt.xticks(ticks=train_df['target'].unique())\n",
    "plt.show()"
   ]
  },
  {
   "cell_type": "markdown",
   "id": "premium-ceramic",
   "metadata": {
    "hidden": true
   },
   "source": [
    "Target classes are slightly imbalanced, but shouldn't be a problem (bigger class <70%)."
   ]
  },
  {
   "cell_type": "markdown",
   "id": "recovered-holocaust",
   "metadata": {},
   "source": [
    "### Preprocessing"
   ]
  },
  {
   "cell_type": "markdown",
   "id": "thorough-honey",
   "metadata": {
    "heading_collapsed": true
   },
   "source": [
    "#### Basic for all types of data"
   ]
  },
  {
   "cell_type": "code",
   "execution_count": 5,
   "id": "freelance-viking",
   "metadata": {
    "hidden": true
   },
   "outputs": [
    {
     "data": {
      "text/plain": [
       "id          0.000000\n",
       "keyword     0.008013\n",
       "location    0.332720\n",
       "text        0.000000\n",
       "target      0.000000\n",
       "dtype: float64"
      ]
     },
     "execution_count": 5,
     "metadata": {},
     "output_type": "execute_result"
    }
   ],
   "source": [
    "train_df.isnull().sum()/len(train_df)"
   ]
  },
  {
   "cell_type": "markdown",
   "id": "extreme-equipment",
   "metadata": {
    "hidden": true
   },
   "source": [
    "First model won't use location. Given that there are less than 1% of tweets missing keyword, I'll drop the rows with NaNs in that column"
   ]
  },
  {
   "cell_type": "code",
   "execution_count": 6,
   "id": "filled-upset",
   "metadata": {
    "hidden": true
   },
   "outputs": [],
   "source": [
    "train_df = train_df[train_df['keyword'].notna()]"
   ]
  },
  {
   "cell_type": "code",
   "execution_count": 7,
   "id": "laden-secretariat",
   "metadata": {
    "hidden": true
   },
   "outputs": [
    {
     "data": {
      "text/plain": [
       "True"
      ]
     },
     "execution_count": 7,
     "metadata": {},
     "output_type": "execute_result"
    }
   ],
   "source": [
    "len(train_df.drop_duplicates()) == len(train_df)"
   ]
  },
  {
   "cell_type": "markdown",
   "id": "bronze-hungarian",
   "metadata": {
    "hidden": true
   },
   "source": [
    "No duplicates found"
   ]
  },
  {
   "cell_type": "code",
   "execution_count": 8,
   "id": "written-calibration",
   "metadata": {
    "hidden": true
   },
   "outputs": [],
   "source": [
    "X_train = train_df.drop(columns=['target','location'])\n",
    "y_train = train_df['target']"
   ]
  },
  {
   "cell_type": "markdown",
   "id": "sorted-thermal",
   "metadata": {},
   "source": [
    "#### Basic for text"
   ]
  },
  {
   "cell_type": "markdown",
   "id": "pending-disability",
   "metadata": {},
   "source": [
    "Create custom transformer for basic text preprocessing. Easier to play around later on."
   ]
  },
  {
   "cell_type": "code",
   "execution_count": 10,
   "id": "shaped-grenada",
   "metadata": {},
   "outputs": [],
   "source": [
    "def remove_digits(string):\n",
    "    \"\"\"Remove digits from the given string\"\"\"\n",
    "    return ''.join(letter for letter in string if not letter.isdigit())"
   ]
  },
  {
   "cell_type": "code",
   "execution_count": 11,
   "id": "tropical-variable",
   "metadata": {},
   "outputs": [],
   "source": [
    "from nltk.tokenize import word_tokenize\n",
    "\n",
    "def tokenize(string):\n",
    "    \"\"\"Returns list of words componing the string\"\"\"\n",
    "    return word_tokenize(string)\n",
    "\n",
    "def detokenize(tokenized_string):\n",
    "    return ' '.join(tokenized_string)"
   ]
  },
  {
   "cell_type": "code",
   "execution_count": 12,
   "id": "gorgeous-maine",
   "metadata": {},
   "outputs": [],
   "source": [
    "def remove_stopwords(tokenized_string, stopwords):\n",
    "    \"\"\"Given a list of words, removes all words that are in stopwords\"\"\"\n",
    "    return [word for word in tokenized_string if word not in stopwords]"
   ]
  },
  {
   "cell_type": "code",
   "execution_count": 13,
   "id": "educational-cancellation",
   "metadata": {},
   "outputs": [],
   "source": [
    "from nltk.stem import WordNetLemmatizer\n",
    "\n",
    "def lemmatize(tokenized_string):\n",
    "    lemmatizer = WordNetLemmatizer()\n",
    "    return [lemmatizer.lemmatize(word) for word in tokenized_string]"
   ]
  },
  {
   "cell_type": "code",
   "execution_count": 56,
   "id": "outstanding-society",
   "metadata": {},
   "outputs": [],
   "source": [
    "from sklearn.base import TransformerMixin, BaseEstimator\n",
    "import string\n",
    "from nltk.corpus import stopwords\n",
    "\n",
    "class BasicTextProcessor(TransformerMixin, BaseEstimator):\n",
    "    \"\"\"\n",
    "    Transformer that gets fed pd.Series containing text. Can be defined which actions should be executed:\n",
    "    - lower\n",
    "    - remove user tags\n",
    "    - remove special programming characters\n",
    "    - remove links\n",
    "    - remove digits\n",
    "    - exclude certain types of punctuation (everything else will be removed)\n",
    "    - exclude certain stopwords (everything else will be removed)\n",
    "    - lemmatize\n",
    "    \"\"\"\n",
    "    def __init__(self, lower=True, remove_tags=True, remove_specials=[r'&amp;', r'\\\\n'], remove_links=True, remove_num=True, excl_punct=None, excl_stopwords=None, lemmatize=True):\n",
    "        self.lower = lower\n",
    "        self.remove_tags = remove_tags\n",
    "        self.remove_specials = remove_specials\n",
    "        self.remove_links = remove_links\n",
    "        self.remove_num = remove_num\n",
    "        self.excl_punct = excl_punct\n",
    "        self.excl_stopwords = excl_stopwords\n",
    "        self.lemmatize = lemmatize\n",
    "    \n",
    "    def fit(self, X, y=None):\n",
    "        if self.excl_punct:\n",
    "            self.punctuation = ''.join(i for i in string.punctuation if i not in self.excl_punct)\n",
    "        else:\n",
    "            self.punctuation = string.punctuation\n",
    "        if self.excl_stopwords:\n",
    "            self.stopwords = [i for i in stopwords.words(\"english\") if i not in self.excl_stopwords]\n",
    "        else:\n",
    "            self.stopwords = stopwords.words(\"english\")\n",
    "        \n",
    "        return self\n",
    "    \n",
    "    def transform(self, X, y=None):\n",
    "        X_transformed = X['text'].copy()\n",
    "        \n",
    "        if self.remove_specials:\n",
    "            for special in self.remove_specials:\n",
    "                X_transformed = X_transformed.str.replace(special,' ',regex=True)\n",
    "        if self.lower:\n",
    "            X_transformed = X_transformed.str.lower()\n",
    "        if self.remove_tags:\n",
    "            X_transformed = X_transformed.str.replace(r'@(\\w+)','USER',regex=True)\n",
    "        if self.remove_links:\n",
    "            X_transformed = X_transformed.str.replace(r'http(\\S+)','LINK',regex=True)\n",
    "        if self.remove_num:\n",
    "            X_transformed = X_transformed.apply(remove_digits)\n",
    "        \n",
    "        # substitute ' with space for better removal of stopwords\n",
    "        if \"'\" in self.punctuation:\n",
    "            X_transformed = X_transformed.str.replace(\"'\",' ',regex=False)\n",
    "        for punct in self.punctuation:\n",
    "            X_transformed = X_transformed.str.replace(punct,'',regex=False)\n",
    "        \n",
    "        # actions on tokenized string\n",
    "        X_transformed_tokenized = X_transformed.apply(tokenize)\n",
    "        X_transformed_tokenized = X_transformed_tokenized.apply(remove_stopwords,stopwords=self.stopwords)\n",
    "        X_transformed_tokenized = X_transformed_tokenized.apply(lemmatize)\n",
    "        \n",
    "        return X_transformed_tokenized.apply(detokenize)"
   ]
  },
  {
   "cell_type": "markdown",
   "id": "individual-approval",
   "metadata": {},
   "source": [
    "#### Build basic pipeline for tweets"
   ]
  },
  {
   "cell_type": "code",
   "execution_count": 57,
   "id": "meaningful-portal",
   "metadata": {},
   "outputs": [],
   "source": [
    "from sklearn import set_config\n",
    "set_config(display=\"diagram\")"
   ]
  },
  {
   "cell_type": "code",
   "execution_count": 147,
   "id": "brilliant-rally",
   "metadata": {},
   "outputs": [
    {
     "data": {
      "text/html": [
       "<style>div.sk-top-container {color: black;background-color: white;}div.sk-toggleable {background-color: white;}label.sk-toggleable__label {cursor: pointer;display: block;width: 100%;margin-bottom: 0;padding: 0.2em 0.3em;box-sizing: border-box;text-align: center;}div.sk-toggleable__content {max-height: 0;max-width: 0;overflow: hidden;text-align: left;background-color: #f0f8ff;}div.sk-toggleable__content pre {margin: 0.2em;color: black;border-radius: 0.25em;background-color: #f0f8ff;}input.sk-toggleable__control:checked~div.sk-toggleable__content {max-height: 200px;max-width: 100%;overflow: auto;}div.sk-estimator input.sk-toggleable__control:checked~label.sk-toggleable__label {background-color: #d4ebff;}div.sk-label input.sk-toggleable__control:checked~label.sk-toggleable__label {background-color: #d4ebff;}input.sk-hidden--visually {border: 0;clip: rect(1px 1px 1px 1px);clip: rect(1px, 1px, 1px, 1px);height: 1px;margin: -1px;overflow: hidden;padding: 0;position: absolute;width: 1px;}div.sk-estimator {font-family: monospace;background-color: #f0f8ff;margin: 0.25em 0.25em;border: 1px dotted black;border-radius: 0.25em;box-sizing: border-box;}div.sk-estimator:hover {background-color: #d4ebff;}div.sk-parallel-item::after {content: \"\";width: 100%;border-bottom: 1px solid gray;flex-grow: 1;}div.sk-label:hover label.sk-toggleable__label {background-color: #d4ebff;}div.sk-serial::before {content: \"\";position: absolute;border-left: 1px solid gray;box-sizing: border-box;top: 2em;bottom: 0;left: 50%;}div.sk-serial {display: flex;flex-direction: column;align-items: center;background-color: white;}div.sk-item {z-index: 1;}div.sk-parallel {display: flex;align-items: stretch;justify-content: center;background-color: white;}div.sk-parallel-item {display: flex;flex-direction: column;position: relative;background-color: white;}div.sk-parallel-item:first-child::after {align-self: flex-end;width: 50%;}div.sk-parallel-item:last-child::after {align-self: flex-start;width: 50%;}div.sk-parallel-item:only-child::after {width: 0;}div.sk-dashed-wrapped {border: 1px dashed gray;margin: 0.2em;box-sizing: border-box;padding-bottom: 0.1em;background-color: white;position: relative;}div.sk-label label {font-family: monospace;font-weight: bold;background-color: white;display: inline-block;line-height: 1.2em;}div.sk-label-container {position: relative;z-index: 2;text-align: center;}div.sk-container {display: inline-block;position: relative;}</style><div class=\"sk-top-container\"><div class=\"sk-container\"><div class=\"sk-item sk-dashed-wrapped\"><div class=\"sk-label-container\"><div class=\"sk-label sk-toggleable\"><input class=\"sk-toggleable__control sk-hidden--visually\" id=\"4ad139d7-e450-478f-afd7-7af7423a1f0e\" type=\"checkbox\" ><label class=\"sk-toggleable__label\" for=\"4ad139d7-e450-478f-afd7-7af7423a1f0e\">Pipeline</label><div class=\"sk-toggleable__content\"><pre>Pipeline(steps=[('basic', BasicTextProcessor())])</pre></div></div></div><div class=\"sk-serial\"><div class=\"sk-item\"><div class=\"sk-estimator sk-toggleable\"><input class=\"sk-toggleable__control sk-hidden--visually\" id=\"a106a627-2549-49b7-b553-350b6b10eb52\" type=\"checkbox\" ><label class=\"sk-toggleable__label\" for=\"a106a627-2549-49b7-b553-350b6b10eb52\">BasicTextProcessor</label><div class=\"sk-toggleable__content\"><pre>BasicTextProcessor()</pre></div></div></div></div></div></div></div>"
      ],
      "text/plain": [
       "Pipeline(steps=[('basic', BasicTextProcessor())])"
      ]
     },
     "execution_count": 147,
     "metadata": {},
     "output_type": "execute_result"
    }
   ],
   "source": [
    "from sklearn.pipeline import Pipeline\n",
    "\n",
    "basic_pipe = Pipeline([\n",
    "    ('basic', BasicTextProcessor())\n",
    "])\n",
    "\n",
    "basic_pipe"
   ]
  },
  {
   "cell_type": "markdown",
   "id": "practical-discretion",
   "metadata": {},
   "source": [
    "#### Embeddings"
   ]
  },
  {
   "cell_type": "markdown",
   "id": "filled-vanilla",
   "metadata": {},
   "source": [
    "Output for word2vec embedding is multiple rows for each sentence. How do we put them back together so that they are represented by a single vector?\n",
    "One idea is to sum (or better, average) all the vectors generated by each word in the sentence."
   ]
  },
  {
   "cell_type": "code",
   "execution_count": 131,
   "id": "paperback-saskatchewan",
   "metadata": {},
   "outputs": [],
   "source": [
    "def embed_sentence(sentence, word2vec):\n",
    "    \"\"\"Given tokenized sentence, uses word2vec to get vector representation of words.\n",
    "    Returns the mean vector for each sentence\"\"\"\n",
    "    embedded_words = [word2vec.wv[word] for word in sentence if word in word2vec.wv.vocab]\n",
    "    return np.mean(np.stack(embedded_words,axis=0),axis=0) if embedded_words\\\n",
    "        else np.empty((word2vec.trainables.layer1_size,))"
   ]
  },
  {
   "cell_type": "code",
   "execution_count": 156,
   "id": "introductory-entity",
   "metadata": {},
   "outputs": [],
   "source": [
    "from gensim.models import Word2Vec\n",
    "\n",
    "class Embedding(TransformerMixin, BaseEstimator):\n",
    "    \"\"\"\n",
    "    Transformer that gets fed pd.Series containing preprocessed text.\n",
    "    Returns representation in embedding space as df. Some hyperparameters can be defined.\n",
    "    \"\"\"\n",
    "    def __init__(self, size=100, min_count=10, window=5):\n",
    "        self.size = size\n",
    "        self.min_count = min_count\n",
    "        self.window = window\n",
    "    \n",
    "    def fit(self, X, y=None):\n",
    "        X_tokenized = X.apply(tokenize)\n",
    "        self.word2vec = Word2Vec(sentences=X_tokenized,\n",
    "                                 size=self.size,\n",
    "                                 min_count=self.min_count,\n",
    "                                 window=self.window)\n",
    "        \n",
    "        return self\n",
    "    \n",
    "    def transform(self, X, y=None):\n",
    "        X_tokenized = X.apply(tokenize)\n",
    "        X_transformed = X_tokenized.apply(embed_sentence, word2vec=self.word2vec)\n",
    "        \n",
    "        return X_transformed.apply(pd.Series)"
   ]
  },
  {
   "cell_type": "markdown",
   "id": "intended-noise",
   "metadata": {},
   "source": [
    "#### Vectorize"
   ]
  },
  {
   "cell_type": "code",
   "execution_count": 157,
   "id": "productive-consent",
   "metadata": {},
   "outputs": [],
   "source": [
    "# bag of words for keyword column, tfidf for tweet column\n",
    "\n",
    "from sklearn.feature_extraction.text import TfidfVectorizer, CountVectorizer\n",
    "\n",
    "bow = CountVectorizer()\n",
    "tfidf = TfidfVectorizer(max_df=0.5, max_features=5000, min_df=0, ngram_range=(1,1))"
   ]
  },
  {
   "cell_type": "markdown",
   "id": "smoking-tissue",
   "metadata": {},
   "source": [
    "#### Build preprocessing pipeline"
   ]
  },
  {
   "cell_type": "code",
   "execution_count": 188,
   "id": "becoming-upper",
   "metadata": {},
   "outputs": [
    {
     "data": {
      "text/html": [
       "<style>div.sk-top-container {color: black;background-color: white;}div.sk-toggleable {background-color: white;}label.sk-toggleable__label {cursor: pointer;display: block;width: 100%;margin-bottom: 0;padding: 0.2em 0.3em;box-sizing: border-box;text-align: center;}div.sk-toggleable__content {max-height: 0;max-width: 0;overflow: hidden;text-align: left;background-color: #f0f8ff;}div.sk-toggleable__content pre {margin: 0.2em;color: black;border-radius: 0.25em;background-color: #f0f8ff;}input.sk-toggleable__control:checked~div.sk-toggleable__content {max-height: 200px;max-width: 100%;overflow: auto;}div.sk-estimator input.sk-toggleable__control:checked~label.sk-toggleable__label {background-color: #d4ebff;}div.sk-label input.sk-toggleable__control:checked~label.sk-toggleable__label {background-color: #d4ebff;}input.sk-hidden--visually {border: 0;clip: rect(1px 1px 1px 1px);clip: rect(1px, 1px, 1px, 1px);height: 1px;margin: -1px;overflow: hidden;padding: 0;position: absolute;width: 1px;}div.sk-estimator {font-family: monospace;background-color: #f0f8ff;margin: 0.25em 0.25em;border: 1px dotted black;border-radius: 0.25em;box-sizing: border-box;}div.sk-estimator:hover {background-color: #d4ebff;}div.sk-parallel-item::after {content: \"\";width: 100%;border-bottom: 1px solid gray;flex-grow: 1;}div.sk-label:hover label.sk-toggleable__label {background-color: #d4ebff;}div.sk-serial::before {content: \"\";position: absolute;border-left: 1px solid gray;box-sizing: border-box;top: 2em;bottom: 0;left: 50%;}div.sk-serial {display: flex;flex-direction: column;align-items: center;background-color: white;}div.sk-item {z-index: 1;}div.sk-parallel {display: flex;align-items: stretch;justify-content: center;background-color: white;}div.sk-parallel-item {display: flex;flex-direction: column;position: relative;background-color: white;}div.sk-parallel-item:first-child::after {align-self: flex-end;width: 50%;}div.sk-parallel-item:last-child::after {align-self: flex-start;width: 50%;}div.sk-parallel-item:only-child::after {width: 0;}div.sk-dashed-wrapped {border: 1px dashed gray;margin: 0.2em;box-sizing: border-box;padding-bottom: 0.1em;background-color: white;position: relative;}div.sk-label label {font-family: monospace;font-weight: bold;background-color: white;display: inline-block;line-height: 1.2em;}div.sk-label-container {position: relative;z-index: 2;text-align: center;}div.sk-container {display: inline-block;position: relative;}</style><div class=\"sk-top-container\"><div class=\"sk-container\"><div class=\"sk-item sk-dashed-wrapped\"><div class=\"sk-label-container\"><div class=\"sk-label sk-toggleable\"><input class=\"sk-toggleable__control sk-hidden--visually\" id=\"8960d783-d7b2-4a50-8dfc-39f1860341aa\" type=\"checkbox\" ><label class=\"sk-toggleable__label\" for=\"8960d783-d7b2-4a50-8dfc-39f1860341aa\">Pipeline</label><div class=\"sk-toggleable__content\"><pre>Pipeline(steps=[('basic', Pipeline(steps=[('basic', BasicTextProcessor())])),\n",
       "                ('tfidf',\n",
       "                 TfidfVectorizer(max_df=0.5, max_features=5000, min_df=0))])</pre></div></div></div><div class=\"sk-serial\"><div class=\"sk-item\"><div class=\"sk-label-container\"><div class=\"sk-label sk-toggleable\"><input class=\"sk-toggleable__control sk-hidden--visually\" id=\"8a3bb1de-8398-4bbe-b046-a1e689963972\" type=\"checkbox\" ><label class=\"sk-toggleable__label\" for=\"8a3bb1de-8398-4bbe-b046-a1e689963972\">basic: Pipeline</label><div class=\"sk-toggleable__content\"><pre>Pipeline(steps=[('basic', BasicTextProcessor())])</pre></div></div></div><div class=\"sk-serial\"><div class=\"sk-item\"><div class=\"sk-estimator sk-toggleable\"><input class=\"sk-toggleable__control sk-hidden--visually\" id=\"5911d566-8e28-4278-ad1b-721a1c3c654d\" type=\"checkbox\" ><label class=\"sk-toggleable__label\" for=\"5911d566-8e28-4278-ad1b-721a1c3c654d\">BasicTextProcessor</label><div class=\"sk-toggleable__content\"><pre>BasicTextProcessor()</pre></div></div></div></div></div><div class=\"sk-item\"><div class=\"sk-estimator sk-toggleable\"><input class=\"sk-toggleable__control sk-hidden--visually\" id=\"c32a8256-02eb-4436-a0b2-eeb9a34d61f7\" type=\"checkbox\" ><label class=\"sk-toggleable__label\" for=\"c32a8256-02eb-4436-a0b2-eeb9a34d61f7\">TfidfVectorizer</label><div class=\"sk-toggleable__content\"><pre>TfidfVectorizer(max_df=0.5, max_features=5000, min_df=0)</pre></div></div></div></div></div></div></div>"
      ],
      "text/plain": [
       "Pipeline(steps=[('basic', Pipeline(steps=[('basic', BasicTextProcessor())])),\n",
       "                ('tfidf',\n",
       "                 TfidfVectorizer(max_df=0.5, max_features=5000, min_df=0))])"
      ]
     },
     "execution_count": 188,
     "metadata": {},
     "output_type": "execute_result"
    }
   ],
   "source": [
    "from sklearn.preprocessing import MinMaxScaler\n",
    "\n",
    "tweet_pipe = Pipeline([\n",
    "    ('basic', basic_pipe),\n",
    "#     ('embedding', Embedding()),\n",
    "#     ('scaler', MinMaxScaler())\n",
    "    ('tfidf', tfidf)\n",
    "])\n",
    "\n",
    "tweet_pipe"
   ]
  },
  {
   "cell_type": "code",
   "execution_count": 189,
   "id": "simple-diana",
   "metadata": {},
   "outputs": [
    {
     "data": {
      "text/html": [
       "<style>div.sk-top-container {color: black;background-color: white;}div.sk-toggleable {background-color: white;}label.sk-toggleable__label {cursor: pointer;display: block;width: 100%;margin-bottom: 0;padding: 0.2em 0.3em;box-sizing: border-box;text-align: center;}div.sk-toggleable__content {max-height: 0;max-width: 0;overflow: hidden;text-align: left;background-color: #f0f8ff;}div.sk-toggleable__content pre {margin: 0.2em;color: black;border-radius: 0.25em;background-color: #f0f8ff;}input.sk-toggleable__control:checked~div.sk-toggleable__content {max-height: 200px;max-width: 100%;overflow: auto;}div.sk-estimator input.sk-toggleable__control:checked~label.sk-toggleable__label {background-color: #d4ebff;}div.sk-label input.sk-toggleable__control:checked~label.sk-toggleable__label {background-color: #d4ebff;}input.sk-hidden--visually {border: 0;clip: rect(1px 1px 1px 1px);clip: rect(1px, 1px, 1px, 1px);height: 1px;margin: -1px;overflow: hidden;padding: 0;position: absolute;width: 1px;}div.sk-estimator {font-family: monospace;background-color: #f0f8ff;margin: 0.25em 0.25em;border: 1px dotted black;border-radius: 0.25em;box-sizing: border-box;}div.sk-estimator:hover {background-color: #d4ebff;}div.sk-parallel-item::after {content: \"\";width: 100%;border-bottom: 1px solid gray;flex-grow: 1;}div.sk-label:hover label.sk-toggleable__label {background-color: #d4ebff;}div.sk-serial::before {content: \"\";position: absolute;border-left: 1px solid gray;box-sizing: border-box;top: 2em;bottom: 0;left: 50%;}div.sk-serial {display: flex;flex-direction: column;align-items: center;background-color: white;}div.sk-item {z-index: 1;}div.sk-parallel {display: flex;align-items: stretch;justify-content: center;background-color: white;}div.sk-parallel-item {display: flex;flex-direction: column;position: relative;background-color: white;}div.sk-parallel-item:first-child::after {align-self: flex-end;width: 50%;}div.sk-parallel-item:last-child::after {align-self: flex-start;width: 50%;}div.sk-parallel-item:only-child::after {width: 0;}div.sk-dashed-wrapped {border: 1px dashed gray;margin: 0.2em;box-sizing: border-box;padding-bottom: 0.1em;background-color: white;position: relative;}div.sk-label label {font-family: monospace;font-weight: bold;background-color: white;display: inline-block;line-height: 1.2em;}div.sk-label-container {position: relative;z-index: 2;text-align: center;}div.sk-container {display: inline-block;position: relative;}</style><div class=\"sk-top-container\"><div class=\"sk-container\"><div class=\"sk-item sk-dashed-wrapped\"><div class=\"sk-label-container\"><div class=\"sk-label sk-toggleable\"><input class=\"sk-toggleable__control sk-hidden--visually\" id=\"e041629a-36b3-40ef-823c-7c154d456819\" type=\"checkbox\" ><label class=\"sk-toggleable__label\" for=\"e041629a-36b3-40ef-823c-7c154d456819\">ColumnTransformer</label><div class=\"sk-toggleable__content\"><pre>ColumnTransformer(sparse_threshold=0,\n",
       "                  transformers=[('tweets',\n",
       "                                 Pipeline(steps=[('basic',\n",
       "                                                  Pipeline(steps=[('basic',\n",
       "                                                                   BasicTextProcessor())])),\n",
       "                                                 ('tfidf',\n",
       "                                                  TfidfVectorizer(max_df=0.5,\n",
       "                                                                  max_features=5000,\n",
       "                                                                  min_df=0))]),\n",
       "                                 ['text']),\n",
       "                                ('keywords', CountVectorizer(), 'keyword')])</pre></div></div></div><div class=\"sk-parallel\"><div class=\"sk-parallel-item\"><div class=\"sk-item\"><div class=\"sk-label-container\"><div class=\"sk-label sk-toggleable\"><input class=\"sk-toggleable__control sk-hidden--visually\" id=\"2f85496b-c078-484a-be8d-cade40b26c11\" type=\"checkbox\" ><label class=\"sk-toggleable__label\" for=\"2f85496b-c078-484a-be8d-cade40b26c11\">tweets</label><div class=\"sk-toggleable__content\"><pre>['text']</pre></div></div></div><div class=\"sk-serial\"><div class=\"sk-item\"><div class=\"sk-serial\"><div class=\"sk-item\"><div class=\"sk-label-container\"><div class=\"sk-label sk-toggleable\"><input class=\"sk-toggleable__control sk-hidden--visually\" id=\"98a01b31-6657-4b91-9a18-3006b42e2204\" type=\"checkbox\" ><label class=\"sk-toggleable__label\" for=\"98a01b31-6657-4b91-9a18-3006b42e2204\">basic: Pipeline</label><div class=\"sk-toggleable__content\"><pre>Pipeline(steps=[('basic', BasicTextProcessor())])</pre></div></div></div><div class=\"sk-serial\"><div class=\"sk-item\"><div class=\"sk-estimator sk-toggleable\"><input class=\"sk-toggleable__control sk-hidden--visually\" id=\"7488501f-b038-4132-9590-01be46657303\" type=\"checkbox\" ><label class=\"sk-toggleable__label\" for=\"7488501f-b038-4132-9590-01be46657303\">BasicTextProcessor</label><div class=\"sk-toggleable__content\"><pre>BasicTextProcessor()</pre></div></div></div></div></div><div class=\"sk-item\"><div class=\"sk-estimator sk-toggleable\"><input class=\"sk-toggleable__control sk-hidden--visually\" id=\"87686ceb-f5a4-4053-ae85-3f168190bb78\" type=\"checkbox\" ><label class=\"sk-toggleable__label\" for=\"87686ceb-f5a4-4053-ae85-3f168190bb78\">TfidfVectorizer</label><div class=\"sk-toggleable__content\"><pre>TfidfVectorizer(max_df=0.5, max_features=5000, min_df=0)</pre></div></div></div></div></div></div></div></div><div class=\"sk-parallel-item\"><div class=\"sk-item\"><div class=\"sk-label-container\"><div class=\"sk-label sk-toggleable\"><input class=\"sk-toggleable__control sk-hidden--visually\" id=\"e195f29a-2c44-4a8f-bf0f-5ffc2b7474eb\" type=\"checkbox\" ><label class=\"sk-toggleable__label\" for=\"e195f29a-2c44-4a8f-bf0f-5ffc2b7474eb\">keywords</label><div class=\"sk-toggleable__content\"><pre>keyword</pre></div></div></div><div class=\"sk-serial\"><div class=\"sk-item\"><div class=\"sk-estimator sk-toggleable\"><input class=\"sk-toggleable__control sk-hidden--visually\" id=\"47dae4cb-0644-4de9-bfea-45f20765b803\" type=\"checkbox\" ><label class=\"sk-toggleable__label\" for=\"47dae4cb-0644-4de9-bfea-45f20765b803\">CountVectorizer</label><div class=\"sk-toggleable__content\"><pre>CountVectorizer()</pre></div></div></div></div></div></div></div></div></div></div>"
      ],
      "text/plain": [
       "ColumnTransformer(sparse_threshold=0,\n",
       "                  transformers=[('tweets',\n",
       "                                 Pipeline(steps=[('basic',\n",
       "                                                  Pipeline(steps=[('basic',\n",
       "                                                                   BasicTextProcessor())])),\n",
       "                                                 ('tfidf',\n",
       "                                                  TfidfVectorizer(max_df=0.5,\n",
       "                                                                  max_features=5000,\n",
       "                                                                  min_df=0))]),\n",
       "                                 ['text']),\n",
       "                                ('keywords', CountVectorizer(), 'keyword')])"
      ]
     },
     "execution_count": 189,
     "metadata": {},
     "output_type": "execute_result"
    }
   ],
   "source": [
    "from sklearn.compose import ColumnTransformer\n",
    "\n",
    "preproc_pipe = ColumnTransformer([\n",
    "    ('tweets', tweet_pipe,['text']),\n",
    "    ('keywords', bow, 'keyword')\n",
    "],sparse_threshold=0)\n",
    "\n",
    "preproc_pipe"
   ]
  },
  {
   "cell_type": "markdown",
   "id": "comparative-moderator",
   "metadata": {
    "heading_collapsed": true
   },
   "source": [
    "#### Feature engineering?"
   ]
  },
  {
   "cell_type": "code",
   "execution_count": 160,
   "id": "iraqi-grounds",
   "metadata": {
    "hidden": true
   },
   "outputs": [],
   "source": [
    "# could be number of punctuation"
   ]
  },
  {
   "cell_type": "markdown",
   "id": "central-sense",
   "metadata": {},
   "source": [
    "### Modelling"
   ]
  },
  {
   "cell_type": "markdown",
   "id": "latest-roots",
   "metadata": {},
   "source": [
    "#### Standard Machine Learning"
   ]
  },
  {
   "cell_type": "code",
   "execution_count": 226,
   "id": "external-villa",
   "metadata": {},
   "outputs": [],
   "source": [
    "# create possibility to choose model from dict"
   ]
  },
  {
   "cell_type": "markdown",
   "id": "charming-possession",
   "metadata": {},
   "source": [
    "#### Baseline score"
   ]
  },
  {
   "cell_type": "code",
   "execution_count": 220,
   "id": "sustainable-independence",
   "metadata": {},
   "outputs": [
    {
     "data": {
      "text/plain": [
       "0.4275688559322034"
      ]
     },
     "execution_count": 220,
     "metadata": {},
     "output_type": "execute_result"
    }
   ],
   "source": [
    "baseline = (train_df['target'].value_counts()/len(train_df))[1]\n",
    "baseline"
   ]
  },
  {
   "cell_type": "markdown",
   "id": "primary-windows",
   "metadata": {
    "heading_collapsed": true
   },
   "source": [
    "#### Naive Bayes Algorithm"
   ]
  },
  {
   "cell_type": "code",
   "execution_count": 172,
   "id": "atlantic-torture",
   "metadata": {
    "hidden": true
   },
   "outputs": [],
   "source": [
    "from sklearn.naive_bayes import MultinomialNB\n",
    "\n",
    "nb_model = MultinomialNB()"
   ]
  },
  {
   "cell_type": "code",
   "execution_count": 173,
   "id": "public-potato",
   "metadata": {
    "hidden": true
   },
   "outputs": [
    {
     "data": {
      "text/html": [
       "<style>div.sk-top-container {color: black;background-color: white;}div.sk-toggleable {background-color: white;}label.sk-toggleable__label {cursor: pointer;display: block;width: 100%;margin-bottom: 0;padding: 0.2em 0.3em;box-sizing: border-box;text-align: center;}div.sk-toggleable__content {max-height: 0;max-width: 0;overflow: hidden;text-align: left;background-color: #f0f8ff;}div.sk-toggleable__content pre {margin: 0.2em;color: black;border-radius: 0.25em;background-color: #f0f8ff;}input.sk-toggleable__control:checked~div.sk-toggleable__content {max-height: 200px;max-width: 100%;overflow: auto;}div.sk-estimator input.sk-toggleable__control:checked~label.sk-toggleable__label {background-color: #d4ebff;}div.sk-label input.sk-toggleable__control:checked~label.sk-toggleable__label {background-color: #d4ebff;}input.sk-hidden--visually {border: 0;clip: rect(1px 1px 1px 1px);clip: rect(1px, 1px, 1px, 1px);height: 1px;margin: -1px;overflow: hidden;padding: 0;position: absolute;width: 1px;}div.sk-estimator {font-family: monospace;background-color: #f0f8ff;margin: 0.25em 0.25em;border: 1px dotted black;border-radius: 0.25em;box-sizing: border-box;}div.sk-estimator:hover {background-color: #d4ebff;}div.sk-parallel-item::after {content: \"\";width: 100%;border-bottom: 1px solid gray;flex-grow: 1;}div.sk-label:hover label.sk-toggleable__label {background-color: #d4ebff;}div.sk-serial::before {content: \"\";position: absolute;border-left: 1px solid gray;box-sizing: border-box;top: 2em;bottom: 0;left: 50%;}div.sk-serial {display: flex;flex-direction: column;align-items: center;background-color: white;}div.sk-item {z-index: 1;}div.sk-parallel {display: flex;align-items: stretch;justify-content: center;background-color: white;}div.sk-parallel-item {display: flex;flex-direction: column;position: relative;background-color: white;}div.sk-parallel-item:first-child::after {align-self: flex-end;width: 50%;}div.sk-parallel-item:last-child::after {align-self: flex-start;width: 50%;}div.sk-parallel-item:only-child::after {width: 0;}div.sk-dashed-wrapped {border: 1px dashed gray;margin: 0.2em;box-sizing: border-box;padding-bottom: 0.1em;background-color: white;position: relative;}div.sk-label label {font-family: monospace;font-weight: bold;background-color: white;display: inline-block;line-height: 1.2em;}div.sk-label-container {position: relative;z-index: 2;text-align: center;}div.sk-container {display: inline-block;position: relative;}</style><div class=\"sk-top-container\"><div class=\"sk-container\"><div class=\"sk-item sk-dashed-wrapped\"><div class=\"sk-label-container\"><div class=\"sk-label sk-toggleable\"><input class=\"sk-toggleable__control sk-hidden--visually\" id=\"6e48c037-7209-40dd-9492-6bb21dc8ec12\" type=\"checkbox\" ><label class=\"sk-toggleable__label\" for=\"6e48c037-7209-40dd-9492-6bb21dc8ec12\">Pipeline</label><div class=\"sk-toggleable__content\"><pre>Pipeline(steps=[('preprocessing',\n",
       "                 ColumnTransformer(sparse_threshold=0,\n",
       "                                   transformers=[('tweets',\n",
       "                                                  Pipeline(steps=[('basic',\n",
       "                                                                   Pipeline(steps=[('basic',\n",
       "                                                                                    BasicTextProcessor())])),\n",
       "                                                                  ('tfidf',\n",
       "                                                                   TfidfVectorizer(max_df=0.5,\n",
       "                                                                                   max_features=5000,\n",
       "                                                                                   min_df=0))]),\n",
       "                                                  ['text']),\n",
       "                                                 ('keywords', CountVectorizer(),\n",
       "                                                  'keyword')])),\n",
       "                ('naive_bayes', MultinomialNB())])</pre></div></div></div><div class=\"sk-serial\"><div class=\"sk-item sk-dashed-wrapped\"><div class=\"sk-label-container\"><div class=\"sk-label sk-toggleable\"><input class=\"sk-toggleable__control sk-hidden--visually\" id=\"daab35f2-1269-44b8-ad1b-2f5f22c6d2ac\" type=\"checkbox\" ><label class=\"sk-toggleable__label\" for=\"daab35f2-1269-44b8-ad1b-2f5f22c6d2ac\">preprocessing: ColumnTransformer</label><div class=\"sk-toggleable__content\"><pre>ColumnTransformer(sparse_threshold=0,\n",
       "                  transformers=[('tweets',\n",
       "                                 Pipeline(steps=[('basic',\n",
       "                                                  Pipeline(steps=[('basic',\n",
       "                                                                   BasicTextProcessor())])),\n",
       "                                                 ('tfidf',\n",
       "                                                  TfidfVectorizer(max_df=0.5,\n",
       "                                                                  max_features=5000,\n",
       "                                                                  min_df=0))]),\n",
       "                                 ['text']),\n",
       "                                ('keywords', CountVectorizer(), 'keyword')])</pre></div></div></div><div class=\"sk-parallel\"><div class=\"sk-parallel-item\"><div class=\"sk-item\"><div class=\"sk-label-container\"><div class=\"sk-label sk-toggleable\"><input class=\"sk-toggleable__control sk-hidden--visually\" id=\"be53c572-5f51-4684-a630-49370bb22c7a\" type=\"checkbox\" ><label class=\"sk-toggleable__label\" for=\"be53c572-5f51-4684-a630-49370bb22c7a\">tweets</label><div class=\"sk-toggleable__content\"><pre>['text']</pre></div></div></div><div class=\"sk-serial\"><div class=\"sk-item\"><div class=\"sk-serial\"><div class=\"sk-item\"><div class=\"sk-label-container\"><div class=\"sk-label sk-toggleable\"><input class=\"sk-toggleable__control sk-hidden--visually\" id=\"e77f906a-a2fa-4172-b62e-5c3a9c1e7bc7\" type=\"checkbox\" ><label class=\"sk-toggleable__label\" for=\"e77f906a-a2fa-4172-b62e-5c3a9c1e7bc7\">basic: Pipeline</label><div class=\"sk-toggleable__content\"><pre>Pipeline(steps=[('basic', BasicTextProcessor())])</pre></div></div></div><div class=\"sk-serial\"><div class=\"sk-item\"><div class=\"sk-estimator sk-toggleable\"><input class=\"sk-toggleable__control sk-hidden--visually\" id=\"38a9c2ba-48a1-4267-b5a8-ef42c4b26f9f\" type=\"checkbox\" ><label class=\"sk-toggleable__label\" for=\"38a9c2ba-48a1-4267-b5a8-ef42c4b26f9f\">BasicTextProcessor</label><div class=\"sk-toggleable__content\"><pre>BasicTextProcessor()</pre></div></div></div></div></div><div class=\"sk-item\"><div class=\"sk-estimator sk-toggleable\"><input class=\"sk-toggleable__control sk-hidden--visually\" id=\"b24c0b6f-86e2-4604-8a5f-e19b24f87aa3\" type=\"checkbox\" ><label class=\"sk-toggleable__label\" for=\"b24c0b6f-86e2-4604-8a5f-e19b24f87aa3\">TfidfVectorizer</label><div class=\"sk-toggleable__content\"><pre>TfidfVectorizer(max_df=0.5, max_features=5000, min_df=0)</pre></div></div></div></div></div></div></div></div><div class=\"sk-parallel-item\"><div class=\"sk-item\"><div class=\"sk-label-container\"><div class=\"sk-label sk-toggleable\"><input class=\"sk-toggleable__control sk-hidden--visually\" id=\"cea60ef4-e5dd-4a85-bc32-ec26d1e5b0e8\" type=\"checkbox\" ><label class=\"sk-toggleable__label\" for=\"cea60ef4-e5dd-4a85-bc32-ec26d1e5b0e8\">keywords</label><div class=\"sk-toggleable__content\"><pre>keyword</pre></div></div></div><div class=\"sk-serial\"><div class=\"sk-item\"><div class=\"sk-estimator sk-toggleable\"><input class=\"sk-toggleable__control sk-hidden--visually\" id=\"896c4818-0e00-45e0-934f-afd3f179c967\" type=\"checkbox\" ><label class=\"sk-toggleable__label\" for=\"896c4818-0e00-45e0-934f-afd3f179c967\">CountVectorizer</label><div class=\"sk-toggleable__content\"><pre>CountVectorizer()</pre></div></div></div></div></div></div></div></div><div class=\"sk-item\"><div class=\"sk-estimator sk-toggleable\"><input class=\"sk-toggleable__control sk-hidden--visually\" id=\"8fd7ab21-16eb-4437-80ed-9a71d593be7c\" type=\"checkbox\" ><label class=\"sk-toggleable__label\" for=\"8fd7ab21-16eb-4437-80ed-9a71d593be7c\">MultinomialNB</label><div class=\"sk-toggleable__content\"><pre>MultinomialNB()</pre></div></div></div></div></div></div></div>"
      ],
      "text/plain": [
       "Pipeline(steps=[('preprocessing',\n",
       "                 ColumnTransformer(sparse_threshold=0,\n",
       "                                   transformers=[('tweets',\n",
       "                                                  Pipeline(steps=[('basic',\n",
       "                                                                   Pipeline(steps=[('basic',\n",
       "                                                                                    BasicTextProcessor())])),\n",
       "                                                                  ('tfidf',\n",
       "                                                                   TfidfVectorizer(max_df=0.5,\n",
       "                                                                                   max_features=5000,\n",
       "                                                                                   min_df=0))]),\n",
       "                                                  ['text']),\n",
       "                                                 ('keywords', CountVectorizer(),\n",
       "                                                  'keyword')])),\n",
       "                ('naive_bayes', MultinomialNB())])"
      ]
     },
     "execution_count": 173,
     "metadata": {},
     "output_type": "execute_result"
    }
   ],
   "source": [
    "nb_pipe = Pipeline([\n",
    "    ('preprocessing', preproc_pipe),\n",
    "    ('naive_bayes', nb_model)\n",
    "])\n",
    "\n",
    "nb_pipe"
   ]
  },
  {
   "cell_type": "code",
   "execution_count": 174,
   "id": "sapphire-stupid",
   "metadata": {
    "hidden": true
   },
   "outputs": [
    {
     "data": {
      "text/plain": [
       "0.5802473173212119"
      ]
     },
     "execution_count": 174,
     "metadata": {},
     "output_type": "execute_result"
    }
   ],
   "source": [
    "from sklearn.model_selection import cross_validate\n",
    "\n",
    "nb_res = cross_validate(nb_pipe, X_train, y_train, cv=5, scoring='f1')\n",
    "\n",
    "nb_res['test_score'].mean()"
   ]
  },
  {
   "cell_type": "markdown",
   "id": "detailed-being",
   "metadata": {
    "heading_collapsed": true
   },
   "source": [
    "#### Logistic Regression"
   ]
  },
  {
   "cell_type": "code",
   "execution_count": 193,
   "id": "corporate-territory",
   "metadata": {
    "hidden": true
   },
   "outputs": [],
   "source": [
    "from sklearn.linear_model import LogisticRegression\n",
    "\n",
    "logreg_model = LogisticRegression(max_iter=10000)"
   ]
  },
  {
   "cell_type": "code",
   "execution_count": 194,
   "id": "serious-ceiling",
   "metadata": {
    "hidden": true
   },
   "outputs": [
    {
     "data": {
      "text/html": [
       "<style>div.sk-top-container {color: black;background-color: white;}div.sk-toggleable {background-color: white;}label.sk-toggleable__label {cursor: pointer;display: block;width: 100%;margin-bottom: 0;padding: 0.2em 0.3em;box-sizing: border-box;text-align: center;}div.sk-toggleable__content {max-height: 0;max-width: 0;overflow: hidden;text-align: left;background-color: #f0f8ff;}div.sk-toggleable__content pre {margin: 0.2em;color: black;border-radius: 0.25em;background-color: #f0f8ff;}input.sk-toggleable__control:checked~div.sk-toggleable__content {max-height: 200px;max-width: 100%;overflow: auto;}div.sk-estimator input.sk-toggleable__control:checked~label.sk-toggleable__label {background-color: #d4ebff;}div.sk-label input.sk-toggleable__control:checked~label.sk-toggleable__label {background-color: #d4ebff;}input.sk-hidden--visually {border: 0;clip: rect(1px 1px 1px 1px);clip: rect(1px, 1px, 1px, 1px);height: 1px;margin: -1px;overflow: hidden;padding: 0;position: absolute;width: 1px;}div.sk-estimator {font-family: monospace;background-color: #f0f8ff;margin: 0.25em 0.25em;border: 1px dotted black;border-radius: 0.25em;box-sizing: border-box;}div.sk-estimator:hover {background-color: #d4ebff;}div.sk-parallel-item::after {content: \"\";width: 100%;border-bottom: 1px solid gray;flex-grow: 1;}div.sk-label:hover label.sk-toggleable__label {background-color: #d4ebff;}div.sk-serial::before {content: \"\";position: absolute;border-left: 1px solid gray;box-sizing: border-box;top: 2em;bottom: 0;left: 50%;}div.sk-serial {display: flex;flex-direction: column;align-items: center;background-color: white;}div.sk-item {z-index: 1;}div.sk-parallel {display: flex;align-items: stretch;justify-content: center;background-color: white;}div.sk-parallel-item {display: flex;flex-direction: column;position: relative;background-color: white;}div.sk-parallel-item:first-child::after {align-self: flex-end;width: 50%;}div.sk-parallel-item:last-child::after {align-self: flex-start;width: 50%;}div.sk-parallel-item:only-child::after {width: 0;}div.sk-dashed-wrapped {border: 1px dashed gray;margin: 0.2em;box-sizing: border-box;padding-bottom: 0.1em;background-color: white;position: relative;}div.sk-label label {font-family: monospace;font-weight: bold;background-color: white;display: inline-block;line-height: 1.2em;}div.sk-label-container {position: relative;z-index: 2;text-align: center;}div.sk-container {display: inline-block;position: relative;}</style><div class=\"sk-top-container\"><div class=\"sk-container\"><div class=\"sk-item sk-dashed-wrapped\"><div class=\"sk-label-container\"><div class=\"sk-label sk-toggleable\"><input class=\"sk-toggleable__control sk-hidden--visually\" id=\"363c5fee-b5c8-46f3-ab5b-3cbbc6f28a17\" type=\"checkbox\" ><label class=\"sk-toggleable__label\" for=\"363c5fee-b5c8-46f3-ab5b-3cbbc6f28a17\">Pipeline</label><div class=\"sk-toggleable__content\"><pre>Pipeline(steps=[('preprocessing',\n",
       "                 ColumnTransformer(sparse_threshold=0,\n",
       "                                   transformers=[('tweets',\n",
       "                                                  Pipeline(steps=[('basic',\n",
       "                                                                   Pipeline(steps=[('basic',\n",
       "                                                                                    BasicTextProcessor())])),\n",
       "                                                                  ('tfidf',\n",
       "                                                                   TfidfVectorizer(max_df=0.5,\n",
       "                                                                                   max_features=5000,\n",
       "                                                                                   min_df=0))]),\n",
       "                                                  ['text']),\n",
       "                                                 ('keywords', CountVectorizer(),\n",
       "                                                  'keyword')])),\n",
       "                ('logistic_regression', LogisticRegression(max_iter=10000))])</pre></div></div></div><div class=\"sk-serial\"><div class=\"sk-item sk-dashed-wrapped\"><div class=\"sk-label-container\"><div class=\"sk-label sk-toggleable\"><input class=\"sk-toggleable__control sk-hidden--visually\" id=\"da3f796b-7402-4e99-9ebd-3e8dcaee05ce\" type=\"checkbox\" ><label class=\"sk-toggleable__label\" for=\"da3f796b-7402-4e99-9ebd-3e8dcaee05ce\">preprocessing: ColumnTransformer</label><div class=\"sk-toggleable__content\"><pre>ColumnTransformer(sparse_threshold=0,\n",
       "                  transformers=[('tweets',\n",
       "                                 Pipeline(steps=[('basic',\n",
       "                                                  Pipeline(steps=[('basic',\n",
       "                                                                   BasicTextProcessor())])),\n",
       "                                                 ('tfidf',\n",
       "                                                  TfidfVectorizer(max_df=0.5,\n",
       "                                                                  max_features=5000,\n",
       "                                                                  min_df=0))]),\n",
       "                                 ['text']),\n",
       "                                ('keywords', CountVectorizer(), 'keyword')])</pre></div></div></div><div class=\"sk-parallel\"><div class=\"sk-parallel-item\"><div class=\"sk-item\"><div class=\"sk-label-container\"><div class=\"sk-label sk-toggleable\"><input class=\"sk-toggleable__control sk-hidden--visually\" id=\"610650db-959e-47b7-9a25-42d71352ee54\" type=\"checkbox\" ><label class=\"sk-toggleable__label\" for=\"610650db-959e-47b7-9a25-42d71352ee54\">tweets</label><div class=\"sk-toggleable__content\"><pre>['text']</pre></div></div></div><div class=\"sk-serial\"><div class=\"sk-item\"><div class=\"sk-serial\"><div class=\"sk-item\"><div class=\"sk-label-container\"><div class=\"sk-label sk-toggleable\"><input class=\"sk-toggleable__control sk-hidden--visually\" id=\"42c0608c-cf7c-40e8-b8e2-98647def7bf9\" type=\"checkbox\" ><label class=\"sk-toggleable__label\" for=\"42c0608c-cf7c-40e8-b8e2-98647def7bf9\">basic: Pipeline</label><div class=\"sk-toggleable__content\"><pre>Pipeline(steps=[('basic', BasicTextProcessor())])</pre></div></div></div><div class=\"sk-serial\"><div class=\"sk-item\"><div class=\"sk-estimator sk-toggleable\"><input class=\"sk-toggleable__control sk-hidden--visually\" id=\"083cfdca-d6fb-4ee5-8a3a-a66eea883886\" type=\"checkbox\" ><label class=\"sk-toggleable__label\" for=\"083cfdca-d6fb-4ee5-8a3a-a66eea883886\">BasicTextProcessor</label><div class=\"sk-toggleable__content\"><pre>BasicTextProcessor()</pre></div></div></div></div></div><div class=\"sk-item\"><div class=\"sk-estimator sk-toggleable\"><input class=\"sk-toggleable__control sk-hidden--visually\" id=\"51ce8d07-b983-433e-a030-d64f743bdd84\" type=\"checkbox\" ><label class=\"sk-toggleable__label\" for=\"51ce8d07-b983-433e-a030-d64f743bdd84\">TfidfVectorizer</label><div class=\"sk-toggleable__content\"><pre>TfidfVectorizer(max_df=0.5, max_features=5000, min_df=0)</pre></div></div></div></div></div></div></div></div><div class=\"sk-parallel-item\"><div class=\"sk-item\"><div class=\"sk-label-container\"><div class=\"sk-label sk-toggleable\"><input class=\"sk-toggleable__control sk-hidden--visually\" id=\"60e5e978-238d-4802-9840-2a8a2a74050d\" type=\"checkbox\" ><label class=\"sk-toggleable__label\" for=\"60e5e978-238d-4802-9840-2a8a2a74050d\">keywords</label><div class=\"sk-toggleable__content\"><pre>keyword</pre></div></div></div><div class=\"sk-serial\"><div class=\"sk-item\"><div class=\"sk-estimator sk-toggleable\"><input class=\"sk-toggleable__control sk-hidden--visually\" id=\"7f1cb3b2-0122-4adf-9028-db22213b304d\" type=\"checkbox\" ><label class=\"sk-toggleable__label\" for=\"7f1cb3b2-0122-4adf-9028-db22213b304d\">CountVectorizer</label><div class=\"sk-toggleable__content\"><pre>CountVectorizer()</pre></div></div></div></div></div></div></div></div><div class=\"sk-item\"><div class=\"sk-estimator sk-toggleable\"><input class=\"sk-toggleable__control sk-hidden--visually\" id=\"22d37822-3e73-4d86-8622-f15a3b92c246\" type=\"checkbox\" ><label class=\"sk-toggleable__label\" for=\"22d37822-3e73-4d86-8622-f15a3b92c246\">LogisticRegression</label><div class=\"sk-toggleable__content\"><pre>LogisticRegression(max_iter=10000)</pre></div></div></div></div></div></div></div>"
      ],
      "text/plain": [
       "Pipeline(steps=[('preprocessing',\n",
       "                 ColumnTransformer(sparse_threshold=0,\n",
       "                                   transformers=[('tweets',\n",
       "                                                  Pipeline(steps=[('basic',\n",
       "                                                                   Pipeline(steps=[('basic',\n",
       "                                                                                    BasicTextProcessor())])),\n",
       "                                                                  ('tfidf',\n",
       "                                                                   TfidfVectorizer(max_df=0.5,\n",
       "                                                                                   max_features=5000,\n",
       "                                                                                   min_df=0))]),\n",
       "                                                  ['text']),\n",
       "                                                 ('keywords', CountVectorizer(),\n",
       "                                                  'keyword')])),\n",
       "                ('logistic_regression', LogisticRegression(max_iter=10000))])"
      ]
     },
     "execution_count": 194,
     "metadata": {},
     "output_type": "execute_result"
    }
   ],
   "source": [
    "logreg_pipe = Pipeline([\n",
    "    ('preprocessing', preproc_pipe),\n",
    "    ('logistic_regression', logreg_model)\n",
    "])\n",
    "\n",
    "logreg_pipe"
   ]
  },
  {
   "cell_type": "code",
   "execution_count": 195,
   "id": "advisory-preserve",
   "metadata": {
    "hidden": true
   },
   "outputs": [
    {
     "data": {
      "text/plain": [
       "0.5085871294271807"
      ]
     },
     "execution_count": 195,
     "metadata": {},
     "output_type": "execute_result"
    }
   ],
   "source": [
    "logreg_res = cross_validate(logreg_pipe, X_train, y_train, cv=5, scoring='f1')\n",
    "\n",
    "logreg_res['test_score'].mean()"
   ]
  },
  {
   "cell_type": "markdown",
   "id": "fresh-avatar",
   "metadata": {},
   "source": [
    "#### KNN"
   ]
  },
  {
   "cell_type": "code",
   "execution_count": 190,
   "id": "joint-homeless",
   "metadata": {},
   "outputs": [],
   "source": [
    "from sklearn.neighbors import KNeighborsClassifier\n",
    "\n",
    "knn_model = KNeighborsClassifier()"
   ]
  },
  {
   "cell_type": "code",
   "execution_count": 191,
   "id": "underlying-douglas",
   "metadata": {},
   "outputs": [
    {
     "data": {
      "text/html": [
       "<style>div.sk-top-container {color: black;background-color: white;}div.sk-toggleable {background-color: white;}label.sk-toggleable__label {cursor: pointer;display: block;width: 100%;margin-bottom: 0;padding: 0.2em 0.3em;box-sizing: border-box;text-align: center;}div.sk-toggleable__content {max-height: 0;max-width: 0;overflow: hidden;text-align: left;background-color: #f0f8ff;}div.sk-toggleable__content pre {margin: 0.2em;color: black;border-radius: 0.25em;background-color: #f0f8ff;}input.sk-toggleable__control:checked~div.sk-toggleable__content {max-height: 200px;max-width: 100%;overflow: auto;}div.sk-estimator input.sk-toggleable__control:checked~label.sk-toggleable__label {background-color: #d4ebff;}div.sk-label input.sk-toggleable__control:checked~label.sk-toggleable__label {background-color: #d4ebff;}input.sk-hidden--visually {border: 0;clip: rect(1px 1px 1px 1px);clip: rect(1px, 1px, 1px, 1px);height: 1px;margin: -1px;overflow: hidden;padding: 0;position: absolute;width: 1px;}div.sk-estimator {font-family: monospace;background-color: #f0f8ff;margin: 0.25em 0.25em;border: 1px dotted black;border-radius: 0.25em;box-sizing: border-box;}div.sk-estimator:hover {background-color: #d4ebff;}div.sk-parallel-item::after {content: \"\";width: 100%;border-bottom: 1px solid gray;flex-grow: 1;}div.sk-label:hover label.sk-toggleable__label {background-color: #d4ebff;}div.sk-serial::before {content: \"\";position: absolute;border-left: 1px solid gray;box-sizing: border-box;top: 2em;bottom: 0;left: 50%;}div.sk-serial {display: flex;flex-direction: column;align-items: center;background-color: white;}div.sk-item {z-index: 1;}div.sk-parallel {display: flex;align-items: stretch;justify-content: center;background-color: white;}div.sk-parallel-item {display: flex;flex-direction: column;position: relative;background-color: white;}div.sk-parallel-item:first-child::after {align-self: flex-end;width: 50%;}div.sk-parallel-item:last-child::after {align-self: flex-start;width: 50%;}div.sk-parallel-item:only-child::after {width: 0;}div.sk-dashed-wrapped {border: 1px dashed gray;margin: 0.2em;box-sizing: border-box;padding-bottom: 0.1em;background-color: white;position: relative;}div.sk-label label {font-family: monospace;font-weight: bold;background-color: white;display: inline-block;line-height: 1.2em;}div.sk-label-container {position: relative;z-index: 2;text-align: center;}div.sk-container {display: inline-block;position: relative;}</style><div class=\"sk-top-container\"><div class=\"sk-container\"><div class=\"sk-item sk-dashed-wrapped\"><div class=\"sk-label-container\"><div class=\"sk-label sk-toggleable\"><input class=\"sk-toggleable__control sk-hidden--visually\" id=\"db6e065f-dd73-4f68-8059-04d392d5e578\" type=\"checkbox\" ><label class=\"sk-toggleable__label\" for=\"db6e065f-dd73-4f68-8059-04d392d5e578\">Pipeline</label><div class=\"sk-toggleable__content\"><pre>Pipeline(steps=[('preprocessing',\n",
       "                 ColumnTransformer(sparse_threshold=0,\n",
       "                                   transformers=[('tweets',\n",
       "                                                  Pipeline(steps=[('basic',\n",
       "                                                                   Pipeline(steps=[('basic',\n",
       "                                                                                    BasicTextProcessor())])),\n",
       "                                                                  ('tfidf',\n",
       "                                                                   TfidfVectorizer(max_df=0.5,\n",
       "                                                                                   max_features=5000,\n",
       "                                                                                   min_df=0))]),\n",
       "                                                  ['text']),\n",
       "                                                 ('keywords', CountVectorizer(),\n",
       "                                                  'keyword')])),\n",
       "                ('knn', KNeighborsClassifier())])</pre></div></div></div><div class=\"sk-serial\"><div class=\"sk-item sk-dashed-wrapped\"><div class=\"sk-label-container\"><div class=\"sk-label sk-toggleable\"><input class=\"sk-toggleable__control sk-hidden--visually\" id=\"47d220ca-f3ee-4a0e-b20d-4fa847be1191\" type=\"checkbox\" ><label class=\"sk-toggleable__label\" for=\"47d220ca-f3ee-4a0e-b20d-4fa847be1191\">preprocessing: ColumnTransformer</label><div class=\"sk-toggleable__content\"><pre>ColumnTransformer(sparse_threshold=0,\n",
       "                  transformers=[('tweets',\n",
       "                                 Pipeline(steps=[('basic',\n",
       "                                                  Pipeline(steps=[('basic',\n",
       "                                                                   BasicTextProcessor())])),\n",
       "                                                 ('tfidf',\n",
       "                                                  TfidfVectorizer(max_df=0.5,\n",
       "                                                                  max_features=5000,\n",
       "                                                                  min_df=0))]),\n",
       "                                 ['text']),\n",
       "                                ('keywords', CountVectorizer(), 'keyword')])</pre></div></div></div><div class=\"sk-parallel\"><div class=\"sk-parallel-item\"><div class=\"sk-item\"><div class=\"sk-label-container\"><div class=\"sk-label sk-toggleable\"><input class=\"sk-toggleable__control sk-hidden--visually\" id=\"b4a31f21-7436-423e-affe-6b2d6461a1b3\" type=\"checkbox\" ><label class=\"sk-toggleable__label\" for=\"b4a31f21-7436-423e-affe-6b2d6461a1b3\">tweets</label><div class=\"sk-toggleable__content\"><pre>['text']</pre></div></div></div><div class=\"sk-serial\"><div class=\"sk-item\"><div class=\"sk-serial\"><div class=\"sk-item\"><div class=\"sk-label-container\"><div class=\"sk-label sk-toggleable\"><input class=\"sk-toggleable__control sk-hidden--visually\" id=\"f1cfcd59-7771-4c38-9cba-fda26b204fa7\" type=\"checkbox\" ><label class=\"sk-toggleable__label\" for=\"f1cfcd59-7771-4c38-9cba-fda26b204fa7\">basic: Pipeline</label><div class=\"sk-toggleable__content\"><pre>Pipeline(steps=[('basic', BasicTextProcessor())])</pre></div></div></div><div class=\"sk-serial\"><div class=\"sk-item\"><div class=\"sk-estimator sk-toggleable\"><input class=\"sk-toggleable__control sk-hidden--visually\" id=\"204f4bec-15b9-4dfa-bf23-92be88029b75\" type=\"checkbox\" ><label class=\"sk-toggleable__label\" for=\"204f4bec-15b9-4dfa-bf23-92be88029b75\">BasicTextProcessor</label><div class=\"sk-toggleable__content\"><pre>BasicTextProcessor()</pre></div></div></div></div></div><div class=\"sk-item\"><div class=\"sk-estimator sk-toggleable\"><input class=\"sk-toggleable__control sk-hidden--visually\" id=\"0579202f-59ef-42df-b0e2-fd21a1abda96\" type=\"checkbox\" ><label class=\"sk-toggleable__label\" for=\"0579202f-59ef-42df-b0e2-fd21a1abda96\">TfidfVectorizer</label><div class=\"sk-toggleable__content\"><pre>TfidfVectorizer(max_df=0.5, max_features=5000, min_df=0)</pre></div></div></div></div></div></div></div></div><div class=\"sk-parallel-item\"><div class=\"sk-item\"><div class=\"sk-label-container\"><div class=\"sk-label sk-toggleable\"><input class=\"sk-toggleable__control sk-hidden--visually\" id=\"2c766e5f-c367-47a2-a3e7-87afb66b8f7f\" type=\"checkbox\" ><label class=\"sk-toggleable__label\" for=\"2c766e5f-c367-47a2-a3e7-87afb66b8f7f\">keywords</label><div class=\"sk-toggleable__content\"><pre>keyword</pre></div></div></div><div class=\"sk-serial\"><div class=\"sk-item\"><div class=\"sk-estimator sk-toggleable\"><input class=\"sk-toggleable__control sk-hidden--visually\" id=\"fc18f0de-8d8c-422c-880a-d516f84b73e0\" type=\"checkbox\" ><label class=\"sk-toggleable__label\" for=\"fc18f0de-8d8c-422c-880a-d516f84b73e0\">CountVectorizer</label><div class=\"sk-toggleable__content\"><pre>CountVectorizer()</pre></div></div></div></div></div></div></div></div><div class=\"sk-item\"><div class=\"sk-estimator sk-toggleable\"><input class=\"sk-toggleable__control sk-hidden--visually\" id=\"089e69d2-b1fd-4e82-ad8a-73345c5b49f2\" type=\"checkbox\" ><label class=\"sk-toggleable__label\" for=\"089e69d2-b1fd-4e82-ad8a-73345c5b49f2\">KNeighborsClassifier</label><div class=\"sk-toggleable__content\"><pre>KNeighborsClassifier()</pre></div></div></div></div></div></div></div>"
      ],
      "text/plain": [
       "Pipeline(steps=[('preprocessing',\n",
       "                 ColumnTransformer(sparse_threshold=0,\n",
       "                                   transformers=[('tweets',\n",
       "                                                  Pipeline(steps=[('basic',\n",
       "                                                                   Pipeline(steps=[('basic',\n",
       "                                                                                    BasicTextProcessor())])),\n",
       "                                                                  ('tfidf',\n",
       "                                                                   TfidfVectorizer(max_df=0.5,\n",
       "                                                                                   max_features=5000,\n",
       "                                                                                   min_df=0))]),\n",
       "                                                  ['text']),\n",
       "                                                 ('keywords', CountVectorizer(),\n",
       "                                                  'keyword')])),\n",
       "                ('knn', KNeighborsClassifier())])"
      ]
     },
     "execution_count": 191,
     "metadata": {},
     "output_type": "execute_result"
    }
   ],
   "source": [
    "knn_pipe = Pipeline([\n",
    "    ('preprocessing', preproc_pipe),\n",
    "    ('knn', knn_model)\n",
    "])\n",
    "\n",
    "knn_pipe"
   ]
  },
  {
   "cell_type": "code",
   "execution_count": 192,
   "id": "accompanied-cooking",
   "metadata": {},
   "outputs": [
    {
     "data": {
      "text/plain": [
       "0.47201329583744267"
      ]
     },
     "execution_count": 192,
     "metadata": {},
     "output_type": "execute_result"
    }
   ],
   "source": [
    "knn_res = cross_validate(knn_pipe, X_train, y_train, cv=5, scoring='f1')\n",
    "\n",
    "knn_res['test_score'].mean()"
   ]
  },
  {
   "cell_type": "markdown",
   "id": "descending-livestock",
   "metadata": {},
   "source": [
    "#### Deep Learning"
   ]
  },
  {
   "cell_type": "code",
   "execution_count": 225,
   "id": "according-conversation",
   "metadata": {},
   "outputs": [],
   "source": [
    "# use embeddings only for RNN"
   ]
  },
  {
   "cell_type": "code",
   "execution_count": null,
   "id": "accurate-geometry",
   "metadata": {},
   "outputs": [],
   "source": []
  },
  {
   "cell_type": "code",
   "execution_count": null,
   "id": "injured-quantum",
   "metadata": {},
   "outputs": [],
   "source": []
  },
  {
   "cell_type": "code",
   "execution_count": null,
   "id": "changed-penetration",
   "metadata": {},
   "outputs": [],
   "source": []
  },
  {
   "cell_type": "code",
   "execution_count": null,
   "id": "future-thailand",
   "metadata": {},
   "outputs": [],
   "source": []
  }
 ],
 "metadata": {
  "kernelspec": {
   "display_name": "Python 3",
   "language": "python",
   "name": "python3"
  },
  "language_info": {
   "codemirror_mode": {
    "name": "ipython",
    "version": 3
   },
   "file_extension": ".py",
   "mimetype": "text/x-python",
   "name": "python",
   "nbconvert_exporter": "python",
   "pygments_lexer": "ipython3",
   "version": "3.8.6"
  },
  "toc": {
   "base_numbering": 1,
   "nav_menu": {},
   "number_sections": true,
   "sideBar": true,
   "skip_h1_title": false,
   "title_cell": "Table of Contents",
   "title_sidebar": "Contents",
   "toc_cell": false,
   "toc_position": {},
   "toc_section_display": true,
   "toc_window_display": true
  }
 },
 "nbformat": 4,
 "nbformat_minor": 5
}
