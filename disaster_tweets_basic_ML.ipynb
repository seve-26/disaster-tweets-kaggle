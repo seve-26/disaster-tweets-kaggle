{
 "cells": [
  {
   "cell_type": "code",
   "execution_count": 1,
   "id": "native-fruit",
   "metadata": {},
   "outputs": [],
   "source": [
    "import pandas as pd\n",
    "import matplotlib.pyplot as plt\n",
    "import numpy as np"
   ]
  },
  {
   "cell_type": "markdown",
   "id": "systematic-winner",
   "metadata": {},
   "source": [
    "### Import data"
   ]
  },
  {
   "cell_type": "code",
   "execution_count": 2,
   "id": "elegant-toilet",
   "metadata": {},
   "outputs": [],
   "source": [
    "train_df = pd.read_csv('raw_data/train.csv')\n",
    "test_df = pd.read_csv('raw_data/test.csv')\n",
    "submission_df = pd.read_csv('raw_data/sample_submission.csv')"
   ]
  },
  {
   "cell_type": "code",
   "execution_count": 3,
   "id": "accomplished-literacy",
   "metadata": {},
   "outputs": [
    {
     "data": {
      "text/html": [
       "<div>\n",
       "<style scoped>\n",
       "    .dataframe tbody tr th:only-of-type {\n",
       "        vertical-align: middle;\n",
       "    }\n",
       "\n",
       "    .dataframe tbody tr th {\n",
       "        vertical-align: top;\n",
       "    }\n",
       "\n",
       "    .dataframe thead th {\n",
       "        text-align: right;\n",
       "    }\n",
       "</style>\n",
       "<table border=\"1\" class=\"dataframe\">\n",
       "  <thead>\n",
       "    <tr style=\"text-align: right;\">\n",
       "      <th></th>\n",
       "      <th>id</th>\n",
       "      <th>keyword</th>\n",
       "      <th>location</th>\n",
       "      <th>text</th>\n",
       "      <th>target</th>\n",
       "    </tr>\n",
       "  </thead>\n",
       "  <tbody>\n",
       "    <tr>\n",
       "      <th>0</th>\n",
       "      <td>1</td>\n",
       "      <td>NaN</td>\n",
       "      <td>NaN</td>\n",
       "      <td>Our Deeds are the Reason of this #earthquake M...</td>\n",
       "      <td>1</td>\n",
       "    </tr>\n",
       "    <tr>\n",
       "      <th>1</th>\n",
       "      <td>4</td>\n",
       "      <td>NaN</td>\n",
       "      <td>NaN</td>\n",
       "      <td>Forest fire near La Ronge Sask. Canada</td>\n",
       "      <td>1</td>\n",
       "    </tr>\n",
       "    <tr>\n",
       "      <th>2</th>\n",
       "      <td>5</td>\n",
       "      <td>NaN</td>\n",
       "      <td>NaN</td>\n",
       "      <td>All residents asked to 'shelter in place' are ...</td>\n",
       "      <td>1</td>\n",
       "    </tr>\n",
       "    <tr>\n",
       "      <th>3</th>\n",
       "      <td>6</td>\n",
       "      <td>NaN</td>\n",
       "      <td>NaN</td>\n",
       "      <td>13,000 people receive #wildfires evacuation or...</td>\n",
       "      <td>1</td>\n",
       "    </tr>\n",
       "    <tr>\n",
       "      <th>4</th>\n",
       "      <td>7</td>\n",
       "      <td>NaN</td>\n",
       "      <td>NaN</td>\n",
       "      <td>Just got sent this photo from Ruby #Alaska as ...</td>\n",
       "      <td>1</td>\n",
       "    </tr>\n",
       "  </tbody>\n",
       "</table>\n",
       "</div>"
      ],
      "text/plain": [
       "   id keyword location                                               text  \\\n",
       "0   1     NaN      NaN  Our Deeds are the Reason of this #earthquake M...   \n",
       "1   4     NaN      NaN             Forest fire near La Ronge Sask. Canada   \n",
       "2   5     NaN      NaN  All residents asked to 'shelter in place' are ...   \n",
       "3   6     NaN      NaN  13,000 people receive #wildfires evacuation or...   \n",
       "4   7     NaN      NaN  Just got sent this photo from Ruby #Alaska as ...   \n",
       "\n",
       "   target  \n",
       "0       1  \n",
       "1       1  \n",
       "2       1  \n",
       "3       1  \n",
       "4       1  "
      ]
     },
     "execution_count": 3,
     "metadata": {},
     "output_type": "execute_result"
    }
   ],
   "source": [
    "train_df.head()"
   ]
  },
  {
   "cell_type": "markdown",
   "id": "looking-diamond",
   "metadata": {
    "heading_collapsed": true
   },
   "source": [
    "### Data exploration"
   ]
  },
  {
   "cell_type": "code",
   "execution_count": 4,
   "id": "pregnant-concept",
   "metadata": {
    "hidden": true,
    "scrolled": true
   },
   "outputs": [
    {
     "data": {
      "image/png": "[encoded data removed]",
      "text/plain": [
       "<Figure size 432x288 with 1 Axes>"
      ]
     },
     "metadata": {
      "needs_background": "light"
     },
     "output_type": "display_data"
    }
   ],
   "source": [
    "plt.bar((train_df['target'].value_counts()/len(train_df)).index,train_df['target'].value_counts()/len(train_df))\n",
    "plt.xticks(ticks=train_df['target'].unique())\n",
    "plt.show()"
   ]
  },
  {
   "cell_type": "markdown",
   "id": "premium-ceramic",
   "metadata": {
    "hidden": true
   },
   "source": [
    "Target classes are slightly imbalanced, but shouldn't be a problem (bigger class <70%)."
   ]
  },
  {
   "cell_type": "markdown",
   "id": "recovered-holocaust",
   "metadata": {},
   "source": [
    "### Preprocessing"
   ]
  },
  {
   "cell_type": "markdown",
   "id": "thorough-honey",
   "metadata": {},
   "source": [
    "#### Basic for all types of data"
   ]
  },
  {
   "cell_type": "code",
   "execution_count": 5,
   "id": "freelance-viking",
   "metadata": {},
   "outputs": [
    {
     "data": {
      "text/plain": [
       "id          0.000000\n",
       "keyword     0.008013\n",
       "location    0.332720\n",
       "text        0.000000\n",
       "target      0.000000\n",
       "dtype: float64"
      ]
     },
     "execution_count": 5,
     "metadata": {},
     "output_type": "execute_result"
    }
   ],
   "source": [
    "train_df.isnull().sum()/len(train_df)"
   ]
  },
  {
   "cell_type": "markdown",
   "id": "extreme-equipment",
   "metadata": {},
   "source": [
    "First model won't use location. Given that there are less than 1% of tweets missing keyword, I'll drop the rows with NaNs in that column"
   ]
  },
  {
   "cell_type": "code",
   "execution_count": 6,
   "id": "filled-upset",
   "metadata": {},
   "outputs": [],
   "source": [
    "train_df = train_df[train_df['keyword'].notna()]"
   ]
  },
  {
   "cell_type": "code",
   "execution_count": 7,
   "id": "laden-secretariat",
   "metadata": {},
   "outputs": [
    {
     "data": {
      "text/plain": [
       "True"
      ]
     },
     "execution_count": 7,
     "metadata": {},
     "output_type": "execute_result"
    }
   ],
   "source": [
    "len(train_df.drop_duplicates()) == len(train_df)"
   ]
  },
  {
   "cell_type": "markdown",
   "id": "bronze-hungarian",
   "metadata": {},
   "source": [
    "No duplicates found"
   ]
  },
  {
   "cell_type": "code",
   "execution_count": 8,
   "id": "written-calibration",
   "metadata": {},
   "outputs": [],
   "source": [
    "X_train = train_df['text']\n",
    "y_train = train_df['target']"
   ]
  },
  {
   "cell_type": "markdown",
   "id": "sorted-thermal",
   "metadata": {},
   "source": [
    "#### Basic for text"
   ]
  },
  {
   "cell_type": "markdown",
   "id": "pending-disability",
   "metadata": {},
   "source": [
    "Create custom transformer for basic text preprocessing. Easier to play around later on."
   ]
  },
  {
   "cell_type": "code",
   "execution_count": 9,
   "id": "shaped-grenada",
   "metadata": {},
   "outputs": [],
   "source": [
    "def remove_digits(string):\n",
    "    \"\"\"Remove digits from the given string\"\"\"\n",
    "    return ''.join(letter for letter in string if not letter.isdigit())"
   ]
  },
  {
   "cell_type": "code",
   "execution_count": 10,
   "id": "tropical-variable",
   "metadata": {},
   "outputs": [],
   "source": [
    "from nltk.tokenize import word_tokenize\n",
    "\n",
    "def tokenize(string):\n",
    "    \"\"\"Returns list of words componing the string\"\"\"\n",
    "    return word_tokenize(string)\n",
    "\n",
    "def detokenize(tokenized_string):\n",
    "    return ' '.join(tokenized_string)"
   ]
  },
  {
   "cell_type": "code",
   "execution_count": 11,
   "id": "gorgeous-maine",
   "metadata": {},
   "outputs": [],
   "source": [
    "def remove_stopwords(tokenized_string, stopwords):\n",
    "    \"\"\"Given a list of words, removes all words that are in stopwords\"\"\"\n",
    "    return [word for word in tokenized_string if word not in stopwords]"
   ]
  },
  {
   "cell_type": "code",
   "execution_count": 12,
   "id": "educational-cancellation",
   "metadata": {},
   "outputs": [],
   "source": [
    "from nltk.stem import WordNetLemmatizer\n",
    "\n",
    "def lemmatize(tokenized_string):\n",
    "    lemmatizer = WordNetLemmatizer()\n",
    "    return [lemmatizer.lemmatize(word) for word in tokenized_string]"
   ]
  },
  {
   "cell_type": "code",
   "execution_count": 13,
   "id": "outstanding-society",
   "metadata": {},
   "outputs": [],
   "source": [
    "from sklearn.base import TransformerMixin, BaseEstimator\n",
    "import string\n",
    "from nltk.corpus import stopwords\n",
    "\n",
    "class BasicTextProcessor(TransformerMixin, BaseEstimator):\n",
    "    \"\"\"\n",
    "    Transformer that gets fed pd.Series containing text. Can be defined which actions should be executed:\n",
    "    - lower\n",
    "    - remove user tags\n",
    "    - remove special programming characters\n",
    "    - remove links\n",
    "    - remove digits\n",
    "    - exclude certain types of punctuation (everything else will be removed)\n",
    "    - exclude certain stopwords (everything else will be removed)\n",
    "    - lemmatize\n",
    "    \"\"\"\n",
    "    def __init__(self, lower=True, remove_tags=True, remove_specials=[r'&amp;', r'\\\\n'], remove_links=True, remove_num=True, excl_punct=None, excl_stopwords=None, lemmatize=True):\n",
    "        self.lower = lower\n",
    "        self.remove_tags = remove_tags\n",
    "        self.remove_specials = remove_specials\n",
    "        self.remove_links = remove_links\n",
    "        self.remove_num = remove_num\n",
    "        self.excl_punct = excl_punct\n",
    "        self.excl_stopwords = excl_stopwords\n",
    "        self.lemmatize = lemmatize\n",
    "    \n",
    "    def fit(self, X, y=None):\n",
    "        if self.excl_punct:\n",
    "            self.punctuation = ''.join(i for i in string.punctuation if i not in self.excl_punct)\n",
    "        else:\n",
    "            self.punctuation = string.punctuation\n",
    "        if self.excl_stopwords:\n",
    "            self.stopwords = [i for i in stopwords.words(\"english\") if i not in self.excl_stopwords]\n",
    "        else:\n",
    "            self.stopwords = stopwords.words(\"english\")\n",
    "        \n",
    "        return self\n",
    "    \n",
    "    def transform(self, X, y=None):\n",
    "        X_transformed = X.copy()\n",
    "        \n",
    "        if self.remove_specials:\n",
    "            for special in self.remove_specials:\n",
    "                X_transformed = X_transformed.str.replace(special,' ',regex=True)\n",
    "        if self.lower:\n",
    "            X_transformed = X_transformed.str.lower()\n",
    "        if self.remove_tags:\n",
    "            X_transformed = X_transformed.str.replace(r'@(\\w+)','USER',regex=True)\n",
    "        if self.remove_links:\n",
    "            X_transformed = X_transformed.str.replace(r'http(\\S+)','LINK',regex=True)\n",
    "        if self.remove_num:\n",
    "            X_transformed = X_transformed.apply(remove_digits)\n",
    "        \n",
    "        # substitute ' with space for better removal of stopwords\n",
    "        if \"'\" in self.punctuation:\n",
    "            X_transformed = X_transformed.str.replace(\"'\",' ',regex=False)\n",
    "        for punct in self.punctuation:\n",
    "            X_transformed = X_transformed.str.replace(punct,'',regex=False)\n",
    "        \n",
    "        # actions on tokenized string\n",
    "        X_transformed_tokenized = X_transformed.apply(tokenize)\n",
    "        X_transformed_tokenized = X_transformed_tokenized.apply(remove_stopwords,stopwords=self.stopwords)\n",
    "        X_transformed_tokenized = X_transformed_tokenized.apply(lemmatize)\n",
    "        \n",
    "        return X_transformed_tokenized.apply(detokenize)"
   ]
  },
  {
   "cell_type": "markdown",
   "id": "individual-approval",
   "metadata": {},
   "source": [
    "#### Build basic pipeline for tweets"
   ]
  },
  {
   "cell_type": "code",
   "execution_count": 14,
   "id": "meaningful-portal",
   "metadata": {},
   "outputs": [],
   "source": [
    "from sklearn import set_config\n",
    "set_config(display=\"diagram\")"
   ]
  },
  {
   "cell_type": "code",
   "execution_count": 15,
   "id": "brilliant-rally",
   "metadata": {},
   "outputs": [
    {
     "data": {
      "text/html": [
       "<style>div.sk-top-container {color: black;background-color: white;}div.sk-toggleable {background-color: white;}label.sk-toggleable__label {cursor: pointer;display: block;width: 100%;margin-bottom: 0;padding: 0.2em 0.3em;box-sizing: border-box;text-align: center;}div.sk-toggleable__content {max-height: 0;max-width: 0;overflow: hidden;text-align: left;background-color: #f0f8ff;}div.sk-toggleable__content pre {margin: 0.2em;color: black;border-radius: 0.25em;background-color: #f0f8ff;}input.sk-toggleable__control:checked~div.sk-toggleable__content {max-height: 200px;max-width: 100%;overflow: auto;}div.sk-estimator input.sk-toggleable__control:checked~label.sk-toggleable__label {background-color: #d4ebff;}div.sk-label input.sk-toggleable__control:checked~label.sk-toggleable__label {background-color: #d4ebff;}input.sk-hidden--visually {border: 0;clip: rect(1px 1px 1px 1px);clip: rect(1px, 1px, 1px, 1px);height: 1px;margin: -1px;overflow: hidden;padding: 0;position: absolute;width: 1px;}div.sk-estimator {font-family: monospace;background-color: #f0f8ff;margin: 0.25em 0.25em;border: 1px dotted black;border-radius: 0.25em;box-sizing: border-box;}div.sk-estimator:hover {background-color: #d4ebff;}div.sk-parallel-item::after {content: \"\";width: 100%;border-bottom: 1px solid gray;flex-grow: 1;}div.sk-label:hover label.sk-toggleable__label {background-color: #d4ebff;}div.sk-serial::before {content: \"\";position: absolute;border-left: 1px solid gray;box-sizing: border-box;top: 2em;bottom: 0;left: 50%;}div.sk-serial {display: flex;flex-direction: column;align-items: center;background-color: white;}div.sk-item {z-index: 1;}div.sk-parallel {display: flex;align-items: stretch;justify-content: center;background-color: white;}div.sk-parallel-item {display: flex;flex-direction: column;position: relative;background-color: white;}div.sk-parallel-item:first-child::after {align-self: flex-end;width: 50%;}div.sk-parallel-item:last-child::after {align-self: flex-start;width: 50%;}div.sk-parallel-item:only-child::after {width: 0;}div.sk-dashed-wrapped {border: 1px dashed gray;margin: 0.2em;box-sizing: border-box;padding-bottom: 0.1em;background-color: white;position: relative;}div.sk-label label {font-family: monospace;font-weight: bold;background-color: white;display: inline-block;line-height: 1.2em;}div.sk-label-container {position: relative;z-index: 2;text-align: center;}div.sk-container {display: inline-block;position: relative;}</style><div class=\"sk-top-container\"><div class=\"sk-container\"><div class=\"sk-item sk-dashed-wrapped\"><div class=\"sk-label-container\"><div class=\"sk-label sk-toggleable\"><input class=\"sk-toggleable__control sk-hidden--visually\" id=\"9f512ca5-5ef8-476b-911c-3b9aa4283e64\" type=\"checkbox\" ><label class=\"sk-toggleable__label\" for=\"9f512ca5-5ef8-476b-911c-3b9aa4283e64\">Pipeline</label><div class=\"sk-toggleable__content\"><pre>Pipeline(steps=[('basic', BasicTextProcessor())])</pre></div></div></div><div class=\"sk-serial\"><div class=\"sk-item\"><div class=\"sk-estimator sk-toggleable\"><input class=\"sk-toggleable__control sk-hidden--visually\" id=\"249a0743-b627-4aa8-b189-d2dafe3d0280\" type=\"checkbox\" ><label class=\"sk-toggleable__label\" for=\"249a0743-b627-4aa8-b189-d2dafe3d0280\">BasicTextProcessor</label><div class=\"sk-toggleable__content\"><pre>BasicTextProcessor()</pre></div></div></div></div></div></div></div>"
      ],
      "text/plain": [
       "Pipeline(steps=[('basic', BasicTextProcessor())])"
      ]
     },
     "execution_count": 15,
     "metadata": {},
     "output_type": "execute_result"
    }
   ],
   "source": [
    "from sklearn.pipeline import Pipeline\n",
    "\n",
    "basic_pipe = Pipeline([\n",
    "    ('basic', BasicTextProcessor())\n",
    "])\n",
    "\n",
    "basic_pipe"
   ]
  },
  {
   "cell_type": "markdown",
   "id": "intended-noise",
   "metadata": {},
   "source": [
    "#### Vectorize"
   ]
  },
  {
   "cell_type": "code",
   "execution_count": 16,
   "id": "productive-consent",
   "metadata": {},
   "outputs": [],
   "source": [
    "from sklearn.feature_extraction.text import TfidfVectorizer\n",
    "\n",
    "tfidf = TfidfVectorizer()"
   ]
  },
  {
   "cell_type": "markdown",
   "id": "smoking-tissue",
   "metadata": {},
   "source": [
    "#### Build preprocessing pipeline"
   ]
  },
  {
   "cell_type": "code",
   "execution_count": 17,
   "id": "becoming-upper",
   "metadata": {},
   "outputs": [
    {
     "data": {
      "text/html": [
       "<style>div.sk-top-container {color: black;background-color: white;}div.sk-toggleable {background-color: white;}label.sk-toggleable__label {cursor: pointer;display: block;width: 100%;margin-bottom: 0;padding: 0.2em 0.3em;box-sizing: border-box;text-align: center;}div.sk-toggleable__content {max-height: 0;max-width: 0;overflow: hidden;text-align: left;background-color: #f0f8ff;}div.sk-toggleable__content pre {margin: 0.2em;color: black;border-radius: 0.25em;background-color: #f0f8ff;}input.sk-toggleable__control:checked~div.sk-toggleable__content {max-height: 200px;max-width: 100%;overflow: auto;}div.sk-estimator input.sk-toggleable__control:checked~label.sk-toggleable__label {background-color: #d4ebff;}div.sk-label input.sk-toggleable__control:checked~label.sk-toggleable__label {background-color: #d4ebff;}input.sk-hidden--visually {border: 0;clip: rect(1px 1px 1px 1px);clip: rect(1px, 1px, 1px, 1px);height: 1px;margin: -1px;overflow: hidden;padding: 0;position: absolute;width: 1px;}div.sk-estimator {font-family: monospace;background-color: #f0f8ff;margin: 0.25em 0.25em;border: 1px dotted black;border-radius: 0.25em;box-sizing: border-box;}div.sk-estimator:hover {background-color: #d4ebff;}div.sk-parallel-item::after {content: \"\";width: 100%;border-bottom: 1px solid gray;flex-grow: 1;}div.sk-label:hover label.sk-toggleable__label {background-color: #d4ebff;}div.sk-serial::before {content: \"\";position: absolute;border-left: 1px solid gray;box-sizing: border-box;top: 2em;bottom: 0;left: 50%;}div.sk-serial {display: flex;flex-direction: column;align-items: center;background-color: white;}div.sk-item {z-index: 1;}div.sk-parallel {display: flex;align-items: stretch;justify-content: center;background-color: white;}div.sk-parallel-item {display: flex;flex-direction: column;position: relative;background-color: white;}div.sk-parallel-item:first-child::after {align-self: flex-end;width: 50%;}div.sk-parallel-item:last-child::after {align-self: flex-start;width: 50%;}div.sk-parallel-item:only-child::after {width: 0;}div.sk-dashed-wrapped {border: 1px dashed gray;margin: 0.2em;box-sizing: border-box;padding-bottom: 0.1em;background-color: white;position: relative;}div.sk-label label {font-family: monospace;font-weight: bold;background-color: white;display: inline-block;line-height: 1.2em;}div.sk-label-container {position: relative;z-index: 2;text-align: center;}div.sk-container {display: inline-block;position: relative;}</style><div class=\"sk-top-container\"><div class=\"sk-container\"><div class=\"sk-item sk-dashed-wrapped\"><div class=\"sk-label-container\"><div class=\"sk-label sk-toggleable\"><input class=\"sk-toggleable__control sk-hidden--visually\" id=\"7f582c08-337e-4a4a-bcd7-dac07061deb6\" type=\"checkbox\" ><label class=\"sk-toggleable__label\" for=\"7f582c08-337e-4a4a-bcd7-dac07061deb6\">Pipeline</label><div class=\"sk-toggleable__content\"><pre>Pipeline(steps=[('basic', Pipeline(steps=[('basic', BasicTextProcessor())])),\n",
       "                ('tfidf', TfidfVectorizer())])</pre></div></div></div><div class=\"sk-serial\"><div class=\"sk-item\"><div class=\"sk-label-container\"><div class=\"sk-label sk-toggleable\"><input class=\"sk-toggleable__control sk-hidden--visually\" id=\"c1953aad-59bb-4d4e-90ab-9d52905d751a\" type=\"checkbox\" ><label class=\"sk-toggleable__label\" for=\"c1953aad-59bb-4d4e-90ab-9d52905d751a\">basic: Pipeline</label><div class=\"sk-toggleable__content\"><pre>Pipeline(steps=[('basic', BasicTextProcessor())])</pre></div></div></div><div class=\"sk-serial\"><div class=\"sk-item\"><div class=\"sk-estimator sk-toggleable\"><input class=\"sk-toggleable__control sk-hidden--visually\" id=\"a3f3b1bf-1111-485e-8dd3-f0bd1fd69fdb\" type=\"checkbox\" ><label class=\"sk-toggleable__label\" for=\"a3f3b1bf-1111-485e-8dd3-f0bd1fd69fdb\">BasicTextProcessor</label><div class=\"sk-toggleable__content\"><pre>BasicTextProcessor()</pre></div></div></div></div></div><div class=\"sk-item\"><div class=\"sk-estimator sk-toggleable\"><input class=\"sk-toggleable__control sk-hidden--visually\" id=\"3ce879c4-a24d-4d03-9b02-0e4991201eee\" type=\"checkbox\" ><label class=\"sk-toggleable__label\" for=\"3ce879c4-a24d-4d03-9b02-0e4991201eee\">TfidfVectorizer</label><div class=\"sk-toggleable__content\"><pre>TfidfVectorizer()</pre></div></div></div></div></div></div></div>"
      ],
      "text/plain": [
       "Pipeline(steps=[('basic', Pipeline(steps=[('basic', BasicTextProcessor())])),\n",
       "                ('tfidf', TfidfVectorizer())])"
      ]
     },
     "execution_count": 17,
     "metadata": {},
     "output_type": "execute_result"
    }
   ],
   "source": [
    "preproc_pipe = Pipeline([\n",
    "    ('basic', basic_pipe),\n",
    "    ('tfidf', tfidf)\n",
    "])\n",
    "\n",
    "preproc_pipe"
   ]
  },
  {
   "cell_type": "markdown",
   "id": "unknown-disorder",
   "metadata": {},
   "source": [
    "### Dimensionality Reduction"
   ]
  },
  {
   "cell_type": "markdown",
   "id": "supposed-hebrew",
   "metadata": {},
   "source": [
    "We are overfitting. Let's try reducing dimensionality with SVD (i.e. PCA for sparse matrices, such as vectorized natural language)"
   ]
  },
  {
   "cell_type": "code",
   "execution_count": 18,
   "id": "raised-course",
   "metadata": {},
   "outputs": [
    {
     "data": {
      "text/plain": [
       "0.27484895209671384"
      ]
     },
     "execution_count": 18,
     "metadata": {},
     "output_type": "execute_result"
    }
   ],
   "source": [
    "from sklearn.decomposition import TruncatedSVD\n",
    "\n",
    "X_train_preproc = preproc_pipe.fit_transform(X_train)\n",
    "model_reduce = TruncatedSVD(n_components=200, n_iter=10).fit(X_train_preproc)\n",
    "\n",
    "model_reduce.explained_variance_ratio_.sum()"
   ]
  },
  {
   "cell_type": "code",
   "execution_count": 19,
   "id": "arctic-emperor",
   "metadata": {},
   "outputs": [],
   "source": [
    "X_train_reduced = model_reduce.transform(X_train_preproc)"
   ]
  },
  {
   "cell_type": "markdown",
   "id": "central-sense",
   "metadata": {},
   "source": [
    "### Modelling"
   ]
  },
  {
   "cell_type": "markdown",
   "id": "charming-possession",
   "metadata": {},
   "source": [
    "#### Baseline score"
   ]
  },
  {
   "cell_type": "code",
   "execution_count": 20,
   "id": "sustainable-independence",
   "metadata": {},
   "outputs": [
    {
     "data": {
      "text/plain": [
       "0.4275688559322034"
      ]
     },
     "execution_count": 20,
     "metadata": {},
     "output_type": "execute_result"
    }
   ],
   "source": [
    "baseline = (train_df['target'].value_counts()/len(train_df))[1]\n",
    "baseline"
   ]
  },
  {
   "cell_type": "code",
   "execution_count": 21,
   "id": "interracial-webster",
   "metadata": {},
   "outputs": [],
   "source": [
    "from sklearn.model_selection import cross_validate, learning_curve\n",
    "from sklearn.decomposition import TruncatedSVD\n",
    "\n",
    "def get_model_and_curves(X, y, model):\n",
    "\n",
    "    results = cross_validate(model, X, y, cv=5, scoring='f1')\n",
    "    print(\"F1 score:\", results['test_score'].mean())\n",
    "    \n",
    "    train_sizes, train_scores, test_scores = learning_curve(model,\n",
    "                                                        X,\n",
    "                                                        y,\n",
    "                                                        cv=5,\n",
    "                                                        scoring='f1')\n",
    "    plt.plot(train_sizes,np.mean(train_scores,axis=1), label='train_scores')\n",
    "    plt.plot(train_sizes,np.mean(test_scores,axis=1), label='test_scores')\n",
    "    plt.xlabel('train_sizes')\n",
    "    plt.ylabel('F1 scores')\n",
    "    plt.ylim(0.3,0.9)\n",
    "    plt.legend()\n",
    "    plt.plot()"
   ]
  },
  {
   "cell_type": "markdown",
   "id": "detailed-being",
   "metadata": {},
   "source": [
    "#### Logistic Regression"
   ]
  },
  {
   "cell_type": "code",
   "execution_count": 22,
   "id": "corporate-territory",
   "metadata": {},
   "outputs": [
    {
     "name": "stdout",
     "output_type": "stream",
     "text": [
      "F1 score: 0.5867371184230765\n"
     ]
    },
    {
     "data": {
      "image/png": "[encoded data removed]",
      "text/plain": [
       "<Figure size 432x288 with 1 Axes>"
      ]
     },
     "metadata": {
      "needs_background": "light"
     },
     "output_type": "display_data"
    }
   ],
   "source": [
    "from sklearn.linear_model import LogisticRegression\n",
    "\n",
    "logreg_model = LogisticRegression(max_iter=10000)\n",
    "get_model_and_curves(X_train_reduced,y_train,logreg_model)"
   ]
  },
  {
   "cell_type": "markdown",
   "id": "fresh-avatar",
   "metadata": {},
   "source": [
    "#### KNN"
   ]
  },
  {
   "cell_type": "code",
   "execution_count": 23,
   "id": "joint-homeless",
   "metadata": {},
   "outputs": [
    {
     "name": "stdout",
     "output_type": "stream",
     "text": [
      "F1 score: 0.4975643029019232\n"
     ]
    },
    {
     "data": {
      "image/png": "[encoded data removed]",
      "text/plain": [
       "<Figure size 432x288 with 1 Axes>"
      ]
     },
     "metadata": {
      "needs_background": "light"
     },
     "output_type": "display_data"
    }
   ],
   "source": [
    "from sklearn.neighbors import KNeighborsClassifier\n",
    "\n",
    "knn_model = KNeighborsClassifier()\n",
    "get_model_and_curves(X_train_reduced,y_train,knn_model)"
   ]
  },
  {
   "cell_type": "markdown",
   "id": "primary-windows",
   "metadata": {},
   "source": [
    "#### Naive Bayes Algorithm"
   ]
  },
  {
   "cell_type": "code",
   "execution_count": 24,
   "id": "atlantic-torture",
   "metadata": {},
   "outputs": [
    {
     "name": "stdout",
     "output_type": "stream",
     "text": [
      "F1 score: 0.5878453726825729\n"
     ]
    },
    {
     "data": {
      "image/png": "[encoded data removed]",
      "text/plain": [
       "<Figure size 432x288 with 1 Axes>"
      ]
     },
     "metadata": {
      "needs_background": "light"
     },
     "output_type": "display_data"
    }
   ],
   "source": [
    "from sklearn.naive_bayes import MultinomialNB\n",
    "from sklearn.preprocessing import MinMaxScaler\n",
    "\n",
    "X_train_reduced_nb = MinMaxScaler(feature_range=(10, 10000)).fit_transform(X_train_reduced)\n",
    "nb_model = MultinomialNB()\n",
    "get_model_and_curves(X_train_reduced_nb,y_train,nb_model)"
   ]
  },
  {
   "cell_type": "markdown",
   "id": "medium-mining",
   "metadata": {},
   "source": [
    "### Submission"
   ]
  },
  {
   "cell_type": "markdown",
   "id": "genetic-suspect",
   "metadata": {},
   "source": [
    "#### Create final pipe"
   ]
  },
  {
   "cell_type": "code",
   "execution_count": 25,
   "id": "republican-sphere",
   "metadata": {},
   "outputs": [
    {
     "data": {
      "text/html": [
       "<style>div.sk-top-container {color: black;background-color: white;}div.sk-toggleable {background-color: white;}label.sk-toggleable__label {cursor: pointer;display: block;width: 100%;margin-bottom: 0;padding: 0.2em 0.3em;box-sizing: border-box;text-align: center;}div.sk-toggleable__content {max-height: 0;max-width: 0;overflow: hidden;text-align: left;background-color: #f0f8ff;}div.sk-toggleable__content pre {margin: 0.2em;color: black;border-radius: 0.25em;background-color: #f0f8ff;}input.sk-toggleable__control:checked~div.sk-toggleable__content {max-height: 200px;max-width: 100%;overflow: auto;}div.sk-estimator input.sk-toggleable__control:checked~label.sk-toggleable__label {background-color: #d4ebff;}div.sk-label input.sk-toggleable__control:checked~label.sk-toggleable__label {background-color: #d4ebff;}input.sk-hidden--visually {border: 0;clip: rect(1px 1px 1px 1px);clip: rect(1px, 1px, 1px, 1px);height: 1px;margin: -1px;overflow: hidden;padding: 0;position: absolute;width: 1px;}div.sk-estimator {font-family: monospace;background-color: #f0f8ff;margin: 0.25em 0.25em;border: 1px dotted black;border-radius: 0.25em;box-sizing: border-box;}div.sk-estimator:hover {background-color: #d4ebff;}div.sk-parallel-item::after {content: \"\";width: 100%;border-bottom: 1px solid gray;flex-grow: 1;}div.sk-label:hover label.sk-toggleable__label {background-color: #d4ebff;}div.sk-serial::before {content: \"\";position: absolute;border-left: 1px solid gray;box-sizing: border-box;top: 2em;bottom: 0;left: 50%;}div.sk-serial {display: flex;flex-direction: column;align-items: center;background-color: white;}div.sk-item {z-index: 1;}div.sk-parallel {display: flex;align-items: stretch;justify-content: center;background-color: white;}div.sk-parallel-item {display: flex;flex-direction: column;position: relative;background-color: white;}div.sk-parallel-item:first-child::after {align-self: flex-end;width: 50%;}div.sk-parallel-item:last-child::after {align-self: flex-start;width: 50%;}div.sk-parallel-item:only-child::after {width: 0;}div.sk-dashed-wrapped {border: 1px dashed gray;margin: 0.2em;box-sizing: border-box;padding-bottom: 0.1em;background-color: white;position: relative;}div.sk-label label {font-family: monospace;font-weight: bold;background-color: white;display: inline-block;line-height: 1.2em;}div.sk-label-container {position: relative;z-index: 2;text-align: center;}div.sk-container {display: inline-block;position: relative;}</style><div class=\"sk-top-container\"><div class=\"sk-container\"><div class=\"sk-item sk-dashed-wrapped\"><div class=\"sk-label-container\"><div class=\"sk-label sk-toggleable\"><input class=\"sk-toggleable__control sk-hidden--visually\" id=\"690daeb4-fd02-4a6e-82ea-287a78ed2c32\" type=\"checkbox\" ><label class=\"sk-toggleable__label\" for=\"690daeb4-fd02-4a6e-82ea-287a78ed2c32\">Pipeline</label><div class=\"sk-toggleable__content\"><pre>Pipeline(steps=[('preproc',\n",
       "                 Pipeline(steps=[('basic',\n",
       "                                  Pipeline(steps=[('basic',\n",
       "                                                   BasicTextProcessor())])),\n",
       "                                 ('tfidf', TfidfVectorizer())])),\n",
       "                ('dim_reduce', TruncatedSVD(n_components=200, n_iter=10)),\n",
       "                ('model', LogisticRegression(max_iter=10000))])</pre></div></div></div><div class=\"sk-serial\"><div class=\"sk-item\"><div class=\"sk-label-container\"><div class=\"sk-label sk-toggleable\"><input class=\"sk-toggleable__control sk-hidden--visually\" id=\"65b4a1a1-c559-43f9-8941-34aafe14062e\" type=\"checkbox\" ><label class=\"sk-toggleable__label\" for=\"65b4a1a1-c559-43f9-8941-34aafe14062e\">preproc: Pipeline</label><div class=\"sk-toggleable__content\"><pre>Pipeline(steps=[('basic', Pipeline(steps=[('basic', BasicTextProcessor())])),\n",
       "                ('tfidf', TfidfVectorizer())])</pre></div></div></div><div class=\"sk-serial\"><div class=\"sk-item\"><div class=\"sk-label-container\"><div class=\"sk-label sk-toggleable\"><input class=\"sk-toggleable__control sk-hidden--visually\" id=\"1c9b6882-fb3a-425d-bdfa-62702469e1dd\" type=\"checkbox\" ><label class=\"sk-toggleable__label\" for=\"1c9b6882-fb3a-425d-bdfa-62702469e1dd\">basic: Pipeline</label><div class=\"sk-toggleable__content\"><pre>Pipeline(steps=[('basic', BasicTextProcessor())])</pre></div></div></div><div class=\"sk-serial\"><div class=\"sk-item\"><div class=\"sk-estimator sk-toggleable\"><input class=\"sk-toggleable__control sk-hidden--visually\" id=\"c9ee23d4-c95a-421d-ae72-c9571aa29ded\" type=\"checkbox\" ><label class=\"sk-toggleable__label\" for=\"c9ee23d4-c95a-421d-ae72-c9571aa29ded\">BasicTextProcessor</label><div class=\"sk-toggleable__content\"><pre>BasicTextProcessor()</pre></div></div></div></div></div><div class=\"sk-item\"><div class=\"sk-estimator sk-toggleable\"><input class=\"sk-toggleable__control sk-hidden--visually\" id=\"190a5772-2a9f-4db9-beea-6b0feb440124\" type=\"checkbox\" ><label class=\"sk-toggleable__label\" for=\"190a5772-2a9f-4db9-beea-6b0feb440124\">TfidfVectorizer</label><div class=\"sk-toggleable__content\"><pre>TfidfVectorizer()</pre></div></div></div></div></div><div class=\"sk-item\"><div class=\"sk-estimator sk-toggleable\"><input class=\"sk-toggleable__control sk-hidden--visually\" id=\"abf2e60a-c01d-48a1-895c-cb93201342a4\" type=\"checkbox\" ><label class=\"sk-toggleable__label\" for=\"abf2e60a-c01d-48a1-895c-cb93201342a4\">TruncatedSVD</label><div class=\"sk-toggleable__content\"><pre>TruncatedSVD(n_components=200, n_iter=10)</pre></div></div></div><div class=\"sk-item\"><div class=\"sk-estimator sk-toggleable\"><input class=\"sk-toggleable__control sk-hidden--visually\" id=\"e7e32ef2-eba4-49bf-887f-08e6118f80ea\" type=\"checkbox\" ><label class=\"sk-toggleable__label\" for=\"e7e32ef2-eba4-49bf-887f-08e6118f80ea\">LogisticRegression</label><div class=\"sk-toggleable__content\"><pre>LogisticRegression(max_iter=10000)</pre></div></div></div></div></div></div></div>"
      ],
      "text/plain": [
       "Pipeline(steps=[('preproc',\n",
       "                 Pipeline(steps=[('basic',\n",
       "                                  Pipeline(steps=[('basic',\n",
       "                                                   BasicTextProcessor())])),\n",
       "                                 ('tfidf', TfidfVectorizer())])),\n",
       "                ('dim_reduce', TruncatedSVD(n_components=200, n_iter=10)),\n",
       "                ('model', LogisticRegression(max_iter=10000))])"
      ]
     },
     "execution_count": 25,
     "metadata": {},
     "output_type": "execute_result"
    }
   ],
   "source": [
    "final_pipe = Pipeline([\n",
    "    ('preproc', preproc_pipe),\n",
    "    ('dim_reduce', TruncatedSVD(n_components=200, n_iter=10)),\n",
    "    ('model', LogisticRegression(max_iter=10000))\n",
    "])\n",
    "\n",
    "final_pipe"
   ]
  },
  {
   "cell_type": "code",
   "execution_count": 26,
   "id": "focal-league",
   "metadata": {},
   "outputs": [
    {
     "data": {
      "text/html": [
       "<style>div.sk-top-container {color: black;background-color: white;}div.sk-toggleable {background-color: white;}label.sk-toggleable__label {cursor: pointer;display: block;width: 100%;margin-bottom: 0;padding: 0.2em 0.3em;box-sizing: border-box;text-align: center;}div.sk-toggleable__content {max-height: 0;max-width: 0;overflow: hidden;text-align: left;background-color: #f0f8ff;}div.sk-toggleable__content pre {margin: 0.2em;color: black;border-radius: 0.25em;background-color: #f0f8ff;}input.sk-toggleable__control:checked~div.sk-toggleable__content {max-height: 200px;max-width: 100%;overflow: auto;}div.sk-estimator input.sk-toggleable__control:checked~label.sk-toggleable__label {background-color: #d4ebff;}div.sk-label input.sk-toggleable__control:checked~label.sk-toggleable__label {background-color: #d4ebff;}input.sk-hidden--visually {border: 0;clip: rect(1px 1px 1px 1px);clip: rect(1px, 1px, 1px, 1px);height: 1px;margin: -1px;overflow: hidden;padding: 0;position: absolute;width: 1px;}div.sk-estimator {font-family: monospace;background-color: #f0f8ff;margin: 0.25em 0.25em;border: 1px dotted black;border-radius: 0.25em;box-sizing: border-box;}div.sk-estimator:hover {background-color: #d4ebff;}div.sk-parallel-item::after {content: \"\";width: 100%;border-bottom: 1px solid gray;flex-grow: 1;}div.sk-label:hover label.sk-toggleable__label {background-color: #d4ebff;}div.sk-serial::before {content: \"\";position: absolute;border-left: 1px solid gray;box-sizing: border-box;top: 2em;bottom: 0;left: 50%;}div.sk-serial {display: flex;flex-direction: column;align-items: center;background-color: white;}div.sk-item {z-index: 1;}div.sk-parallel {display: flex;align-items: stretch;justify-content: center;background-color: white;}div.sk-parallel-item {display: flex;flex-direction: column;position: relative;background-color: white;}div.sk-parallel-item:first-child::after {align-self: flex-end;width: 50%;}div.sk-parallel-item:last-child::after {align-self: flex-start;width: 50%;}div.sk-parallel-item:only-child::after {width: 0;}div.sk-dashed-wrapped {border: 1px dashed gray;margin: 0.2em;box-sizing: border-box;padding-bottom: 0.1em;background-color: white;position: relative;}div.sk-label label {font-family: monospace;font-weight: bold;background-color: white;display: inline-block;line-height: 1.2em;}div.sk-label-container {position: relative;z-index: 2;text-align: center;}div.sk-container {display: inline-block;position: relative;}</style><div class=\"sk-top-container\"><div class=\"sk-container\"><div class=\"sk-item sk-dashed-wrapped\"><div class=\"sk-label-container\"><div class=\"sk-label sk-toggleable\"><input class=\"sk-toggleable__control sk-hidden--visually\" id=\"46ea204f-241a-424c-a203-e790a6d124bf\" type=\"checkbox\" ><label class=\"sk-toggleable__label\" for=\"46ea204f-241a-424c-a203-e790a6d124bf\">Pipeline</label><div class=\"sk-toggleable__content\"><pre>Pipeline(steps=[('preproc',\n",
       "                 Pipeline(steps=[('basic',\n",
       "                                  Pipeline(steps=[('basic',\n",
       "                                                   BasicTextProcessor())])),\n",
       "                                 ('tfidf', TfidfVectorizer())])),\n",
       "                ('dim_reduce', TruncatedSVD(n_components=200, n_iter=10)),\n",
       "                ('model', LogisticRegression(max_iter=10000))])</pre></div></div></div><div class=\"sk-serial\"><div class=\"sk-item\"><div class=\"sk-label-container\"><div class=\"sk-label sk-toggleable\"><input class=\"sk-toggleable__control sk-hidden--visually\" id=\"18d049a8-fd77-491e-9d72-36a7fb0bada9\" type=\"checkbox\" ><label class=\"sk-toggleable__label\" for=\"18d049a8-fd77-491e-9d72-36a7fb0bada9\">preproc: Pipeline</label><div class=\"sk-toggleable__content\"><pre>Pipeline(steps=[('basic', Pipeline(steps=[('basic', BasicTextProcessor())])),\n",
       "                ('tfidf', TfidfVectorizer())])</pre></div></div></div><div class=\"sk-serial\"><div class=\"sk-item\"><div class=\"sk-label-container\"><div class=\"sk-label sk-toggleable\"><input class=\"sk-toggleable__control sk-hidden--visually\" id=\"b164c180-abca-4e4b-a681-7ac53b077e72\" type=\"checkbox\" ><label class=\"sk-toggleable__label\" for=\"b164c180-abca-4e4b-a681-7ac53b077e72\">basic: Pipeline</label><div class=\"sk-toggleable__content\"><pre>Pipeline(steps=[('basic', BasicTextProcessor())])</pre></div></div></div><div class=\"sk-serial\"><div class=\"sk-item\"><div class=\"sk-estimator sk-toggleable\"><input class=\"sk-toggleable__control sk-hidden--visually\" id=\"23f2f267-a154-4de2-81a9-3cacb3302a94\" type=\"checkbox\" ><label class=\"sk-toggleable__label\" for=\"23f2f267-a154-4de2-81a9-3cacb3302a94\">BasicTextProcessor</label><div class=\"sk-toggleable__content\"><pre>BasicTextProcessor()</pre></div></div></div></div></div><div class=\"sk-item\"><div class=\"sk-estimator sk-toggleable\"><input class=\"sk-toggleable__control sk-hidden--visually\" id=\"5dc9e7a6-8b04-4c1f-b796-60eea9172fa5\" type=\"checkbox\" ><label class=\"sk-toggleable__label\" for=\"5dc9e7a6-8b04-4c1f-b796-60eea9172fa5\">TfidfVectorizer</label><div class=\"sk-toggleable__content\"><pre>TfidfVectorizer()</pre></div></div></div></div></div><div class=\"sk-item\"><div class=\"sk-estimator sk-toggleable\"><input class=\"sk-toggleable__control sk-hidden--visually\" id=\"c9cf0360-e8f2-49ab-90c2-7d3e9cc11add\" type=\"checkbox\" ><label class=\"sk-toggleable__label\" for=\"c9cf0360-e8f2-49ab-90c2-7d3e9cc11add\">TruncatedSVD</label><div class=\"sk-toggleable__content\"><pre>TruncatedSVD(n_components=200, n_iter=10)</pre></div></div></div><div class=\"sk-item\"><div class=\"sk-estimator sk-toggleable\"><input class=\"sk-toggleable__control sk-hidden--visually\" id=\"f1baec45-1167-4cc4-8fdc-cce9a1bac208\" type=\"checkbox\" ><label class=\"sk-toggleable__label\" for=\"f1baec45-1167-4cc4-8fdc-cce9a1bac208\">LogisticRegression</label><div class=\"sk-toggleable__content\"><pre>LogisticRegression(max_iter=10000)</pre></div></div></div></div></div></div></div>"
      ],
      "text/plain": [
       "Pipeline(steps=[('preproc',\n",
       "                 Pipeline(steps=[('basic',\n",
       "                                  Pipeline(steps=[('basic',\n",
       "                                                   BasicTextProcessor())])),\n",
       "                                 ('tfidf', TfidfVectorizer())])),\n",
       "                ('dim_reduce', TruncatedSVD(n_components=200, n_iter=10)),\n",
       "                ('model', LogisticRegression(max_iter=10000))])"
      ]
     },
     "execution_count": 26,
     "metadata": {},
     "output_type": "execute_result"
    }
   ],
   "source": [
    "final_pipe.fit(X_train, y_train)"
   ]
  },
  {
   "cell_type": "markdown",
   "id": "informal-verification",
   "metadata": {},
   "source": [
    "#### Create submission file"
   ]
  },
  {
   "cell_type": "code",
   "execution_count": 27,
   "id": "orange-lawsuit",
   "metadata": {},
   "outputs": [],
   "source": [
    "y_pred = final_pipe.predict(test_df['text'])"
   ]
  },
  {
   "cell_type": "code",
   "execution_count": 28,
   "id": "painful-bedroom",
   "metadata": {},
   "outputs": [],
   "source": [
    "submission_pred = pd.DataFrame({\n",
    "    'id': test_df['id'],\n",
    "    'target': y_pred\n",
    "})"
   ]
  },
  {
   "cell_type": "code",
   "execution_count": 29,
   "id": "waiting-olympus",
   "metadata": {},
   "outputs": [],
   "source": [
    "submission_pred.to_csv('submission.csv',index=False)"
   ]
  },
  {
   "cell_type": "code",
   "execution_count": null,
   "id": "italic-indian",
   "metadata": {},
   "outputs": [],
   "source": []
  }
 ],
 "metadata": {
  "kernelspec": {
   "display_name": "Python 3",
   "language": "python",
   "name": "python3"
  },
  "language_info": {
   "codemirror_mode": {
    "name": "ipython",
    "version": 3
   },
   "file_extension": ".py",
   "mimetype": "text/x-python",
   "name": "python",
   "nbconvert_exporter": "python",
   "pygments_lexer": "ipython3",
   "version": "3.8.6"
  },
  "toc": {
   "base_numbering": 1,
   "nav_menu": {},
   "number_sections": true,
   "sideBar": true,
   "skip_h1_title": false,
   "title_cell": "Table of Contents",
   "title_sidebar": "Contents",
   "toc_cell": false,
   "toc_position": {
    "height": "calc(100% - 180px)",
    "left": "10px",
    "top": "150px",
    "width": "273.188px"
   },
   "toc_section_display": true,
   "toc_window_display": true
  }
 },
 "nbformat": 4,
 "nbformat_minor": 5
}
